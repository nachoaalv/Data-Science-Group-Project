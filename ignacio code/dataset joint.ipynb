{
 "cells": [
  {
   "cell_type": "code",
   "execution_count": 1,
   "id": "13353d72",
   "metadata": {},
   "outputs": [
    {
     "name": "stdout",
     "output_type": "stream",
     "text": [
      "                          GLOBAL UNIQUE IDENTIFIER OBSERVATION COUNT  \\\n",
      "0  URN:CornellLabOfOrnithology:EBIRD:OBS2834433772                 2   \n",
      "1  URN:CornellLabOfOrnithology:EBIRD:OBS2778074489                30   \n",
      "2  URN:CornellLabOfOrnithology:EBIRD:OBS2789070790                 3   \n",
      "3  URN:CornellLabOfOrnithology:EBIRD:OBS2830885770                 1   \n",
      "4  URN:CornellLabOfOrnithology:EBIRD:OBS2822543283                10   \n",
      "\n",
      "    COUNTRY   LATITUDE  LONGITUDE OBSERVATION DATE TIME OBSERVATIONS STARTED  \\\n",
      "0  Zimbabwe -19.068920  27.343787       10/01/2025                  06:32:00   \n",
      "1     Spain  40.394764  -3.704024       12/01/2025                  13:05:00   \n",
      "2     Spain  42.473166  -2.433722       16/01/2025                  08:24:00   \n",
      "3     Spain  40.390261  -3.684086       31/01/2025                  12:45:00   \n",
      "4     Spain  40.324650  -3.516475       28/01/2025                  12:29:00   \n",
      "\n",
      "   DURATION MINUTES  \n",
      "0             100.0  \n",
      "1              50.0  \n",
      "2              57.0  \n",
      "3              63.0  \n",
      "4              24.0  \n",
      "(675879, 8)\n"
     ]
    }
   ],
   "source": [
    "from sklearn.linear_model import LinearRegression\n",
    "import pandas as pd \n",
    "import numpy as np \n",
    "import matplotlib.pyplot as plt\n",
    "import seaborn as sns \n",
    "import warnings\n",
    "warnings.filterwarnings('ignore')\n",
    "\n",
    "# Load the CSV file\n",
    "# Data file should be in the same directory as the code\n",
    "file_path = r\"stork.csv\"\n",
    "df_crane = pd.read_csv(file_path)\n",
    "\n",
    "print(df_crane.head())\n",
    "print(df_crane.shape)\n"
   ]
  },
  {
   "cell_type": "code",
   "execution_count": 2,
   "id": "91233bb2",
   "metadata": {},
   "outputs": [
    {
     "name": "stdout",
     "output_type": "stream",
     "text": [
      "                             GLOBAL UNIQUE IDENTIFIER OBSERVATION COUNT  \\\n",
      "20487  URN:CornellLabOfOrnithology:EBIRD:OBS893567418                 2   \n",
      "20488  URN:CornellLabOfOrnithology:EBIRD:OBS892840772                 1   \n",
      "20489  URN:CornellLabOfOrnithology:EBIRD:OBS875856550                 3   \n",
      "20490  URN:CornellLabOfOrnithology:EBIRD:OBS771039779                 4   \n",
      "20491  URN:CornellLabOfOrnithology:EBIRD:OBS857230402                 X   \n",
      "\n",
      "      COUNTRY   LATITUDE  LONGITUDE OBSERVATION DATE  \\\n",
      "20487   Spain  40.813819  -5.705139       2001-04-29   \n",
      "20488   Spain  40.813819  -5.705139       2001-06-10   \n",
      "20489   Spain  42.212204  -2.180776       2001-06-20   \n",
      "20490   Spain  41.728994  -5.595362       2001-04-28   \n",
      "20491   Spain  41.728994  -5.595362       2001-06-02   \n",
      "\n",
      "      TIME OBSERVATIONS STARTED  DURATION MINUTES  \n",
      "20487                  10:27:00              31.0  \n",
      "20488                  10:20:00              38.0  \n",
      "20489                  09:00:00             270.0  \n",
      "20490                       NaN               NaN  \n",
      "20491                       NaN               NaN  \n",
      "(251246, 8)\n"
     ]
    }
   ],
   "source": [
    "df_crane['OBSERVATION DATE'] = pd.to_datetime(df_crane['OBSERVATION DATE'], format='%d/%m/%Y', errors='coerce')\n",
    "\n",
    "# Define the date range\n",
    "start_date = '2001-01-01'\n",
    "end_date = '2020-06-30'\n",
    "\n",
    "# Filter the DataFrame\n",
    "df_crane = df_crane[(df_crane['OBSERVATION DATE'] >= start_date) & \n",
    "                       (df_crane['OBSERVATION DATE'] <= end_date)]\n",
    "\n",
    "# Display the filtered DataFrame\n",
    "print(df_crane.head())\n",
    "print(df_crane.shape)\n",
    "#df_crane.to_csv('Stork 2001-2020.csv', index=False)"
   ]
  },
  {
   "cell_type": "code",
   "execution_count": 3,
   "id": "7160693b",
   "metadata": {},
   "outputs": [
    {
     "name": "stdout",
     "output_type": "stream",
     "text": [
      "  code             name      continent        date  precipitation  year\n",
      "0  ABW    Aruba (Neth.)  North America  1901-01-01          33.30   NaN\n",
      "1  AFG      Afghanistan           Asia  1901-01-01          48.01   NaN\n",
      "2  AGO           Angola         Africa  1901-01-01         152.68   NaN\n",
      "3  AIA  Anguilla (U.K.)  North America  1901-01-01          92.60   NaN\n",
      "4  ALA          Finland         Europe  1901-01-01          15.14   NaN\n",
      "(352764, 6)\n"
     ]
    }
   ],
   "source": [
    "df_rain1 = pd.read_csv(r'datasets/cleaned_precipitation.csv')\n",
    "\n",
    "df_rain2 = pd.read_csv(r'datasets/cleaned_precipitation2.csv')\n",
    "\n",
    "\n",
    "df_rain= pd.concat([df_rain1, df_rain2], ignore_index=True)\n",
    "\n",
    "print(df_rain.head())\n",
    "print(df_rain.shape)"
   ]
  },
  {
   "cell_type": "code",
   "execution_count": 4,
   "id": "7dcf518f",
   "metadata": {},
   "outputs": [
    {
     "name": "stdout",
     "output_type": "stream",
     "text": [
      "  Country_Code     Country_Name  Year_Month  Temperature\n",
      "0          ABW    Aruba (Neth.)  1901-01-01        27.20\n",
      "1          AFG      Afghanistan  1901-01-01        -0.82\n",
      "2          AGO           Angola  1901-01-01        22.50\n",
      "3          AIA  Anguilla (U.K.)  1901-01-01        26.10\n",
      "4          ALA    Åland Islands  1901-01-01        -4.15\n",
      "(360144, 4)\n"
     ]
    }
   ],
   "source": [
    "df_temp = pd.read_csv(r'datasets/cleaned_temperature.csv')\n",
    "print(df_temp.head())\n",
    "print(df_temp.shape)"
   ]
  },
  {
   "cell_type": "code",
   "execution_count": 5,
   "id": "a90df067",
   "metadata": {},
   "outputs": [],
   "source": [
    "# --- 1. Standardize Country Names in Crane Dataset ---\n",
    "# Replace the country names in the crane dataset to match the temperature and precipitation datasets\n",
    "df_crane['COUNTRY'] = df_crane['COUNTRY'].replace({\n",
    "    'TÃ¼rkiye': 'Turkey', \n",
    "    'Türkiye' : 'Turkey',\n",
    "    'Western Sahara' : 'Morocco',\n",
    "    'DR Congo' : 'Democratic Republic of Congo',\n",
    "    'Vatican City (Holy See)' : 'Vatican City'# Handle the special character in 'TÃ¼rkiye'\n",
    "})\n",
    "\n",
    "# --- 2. Standardize Country Names in Temperature and Precipitation Datasets ---\n",
    "# Replace the country names in the temperature dataset to match the crane dataset\n",
    "df_temp['Country_Name'] = df_temp['Country_Name'].replace({\n",
    "    'United States of America': 'United States',  # Standardize to 'United States'\n",
    "    'Arab Republic of Egypt' : 'Egypt',\n",
    "    'Republic of Korea' : 'South Korea',\n",
    "    'D. P. R. of Korea' : 'North Korea',\n",
    "    'Islamic Republic of Iran' : 'Iran',\n",
    "    'Slovak Republic' : 'Slovakia',\n",
    "    'Svalbard and Jan Mayen (Nor.)' : 'Svalbard',\n",
    "    'Syrian Arab Republic' : 'Syria',\n",
    "    'Isle of Man (U.K.)' : 'Isle of Man',\n",
    "    'Gibraltar (U.K.)' : 'Gibraltar',\n",
    "    'Republic of Yemen' : 'Yemen',\n",
    "    'Kyrgyz Republic' : 'Kyrgyzstan',\n",
    "    'Faroe Islands (Den.)' : 'Faroe Islands',\n",
    "    'Jersey (U.K.)' : 'Jersey',\n",
    "    'Guernsey (U.K.)' : 'Guernsey',\n",
    "    'Russian Federation': 'Russia',\n",
    "    'Türkiye' : 'Turkey',\n",
    "    'The Gambia' : 'Gambia'# Standardize to 'Russia'\n",
    "})\n",
    "\n",
    "# --- 1. Replace 'China' with 'Taiwan' for rows where the country code is 'TWN' ---\n",
    "df_rain.loc[df_rain['code'] == 'TWN', 'name'] = 'Taiwan'\n",
    "df_rain.loc[df_rain['code'] == 'MTQ', 'name'] = 'Martinique'\n",
    "\n",
    "\n",
    "# --- 3. Proceed with the merge or other steps ---\n",
    "# Continue with the rest of your merge or processing as needed\n",
    "\n",
    "# Replace the country names in the precipitation dataset\n",
    "df_rain['name'] = df_rain['name'].replace({\n",
    "    'United States of America': 'United States',  # Standardize to 'United States'\n",
    "    'Arab Republic of Egypt' : 'Egypt',\n",
    "    'Republic of Korea' : 'South Korea',\n",
    "    'D. P. R. of Korea' : 'North Korea',\n",
    "    'Islamic Republic of Iran' : 'Iran',\n",
    "    'Slovak Republic' : 'Slovakia',\n",
    "    'Svalbard and Jan Mayen (Nor.)' : 'Svalbard',\n",
    "    'Syrian Arab Republic' : 'Syria',\n",
    "    'Isle of Man (U.K.)' : 'Isle of Man',\n",
    "    'Gibraltar (U.K.)' : 'Gibraltar',\n",
    "    'Republic of Yemen' : 'Yemen',\n",
    "    'Kyrgyz Republic' : 'Kyrgyzstan',\n",
    "    'Faroe Islands (Den.)' : 'Faroe Islands',\n",
    "    'Jersey (U.K.)' : 'Jersey',\n",
    "    'Guernsey (U.K.)' : 'Guernsey',\n",
    "    'Russian Federation': 'Russia',\n",
    "    'Türkiye' : 'Turkey',\n",
    "    'The Gambia' : 'Gambia'# Standardize to 'Russia'\n",
    "})\n",
    "df_rain = df_rain[~((df_rain['name'] == 'France') & (df_rain['code'] != 'FRA'))]\n",
    "df_rain = df_rain[~((df_rain['name'] == 'Finland') & (df_rain['code'] != 'FIN'))]"
   ]
  },
  {
   "cell_type": "code",
   "execution_count": 6,
   "id": "6508f320",
   "metadata": {},
   "outputs": [
    {
     "name": "stdout",
     "output_type": "stream",
     "text": [
      "(251246, 9)\n"
     ]
    }
   ],
   "source": [
    "# --- 3. Convert 'OBSERVATION DATE' to Datetime and Extract Year-Month in the Crane Dataset ---\n",
    "# Convert 'OBSERVATION DATE' to datetime format\n",
    "df_crane['OBSERVATION DATE'] = pd.to_datetime(df_crane['OBSERVATION DATE'], format='%d/%m/%Y', errors='coerce')\n",
    "\n",
    "\n",
    "# Extract Year-Month (the first day of the month) from the 'OBSERVATION DATE'\n",
    "df_crane['Year_Month'] = df_crane['OBSERVATION DATE'].dt.to_period('M').dt.to_timestamp()\n",
    "\n",
    "# --- 4. Filter Crane Data to Exclude 2024 Data ---\n",
    "# Filter the dataset to include only data up to 2023\n",
    "\n",
    "\n",
    "\n",
    "print(df_crane.shape)\n"
   ]
  },
  {
   "cell_type": "code",
   "execution_count": 7,
   "id": "7d75e524",
   "metadata": {
    "scrolled": false
   },
   "outputs": [
    {
     "name": "stdout",
     "output_type": "stream",
     "text": [
      "(251246, 11)\n",
      "(251246, 11)\n",
      "(251246, 13)\n",
      "                         GLOBAL UNIQUE IDENTIFIER OBSERVATION COUNT COUNTRY  \\\n",
      "0  URN:CornellLabOfOrnithology:EBIRD:OBS893567418                 2   Spain   \n",
      "1  URN:CornellLabOfOrnithology:EBIRD:OBS892840772                 1   Spain   \n",
      "2  URN:CornellLabOfOrnithology:EBIRD:OBS875856550                 3   Spain   \n",
      "3  URN:CornellLabOfOrnithology:EBIRD:OBS771039779                 4   Spain   \n",
      "4  URN:CornellLabOfOrnithology:EBIRD:OBS857230402                 X   Spain   \n",
      "\n",
      "    LATITUDE  LONGITUDE OBSERVATION DATE TIME OBSERVATIONS STARTED  \\\n",
      "0  40.813819  -5.705139       2001-04-29                  10:27:00   \n",
      "1  40.813819  -5.705139       2001-06-10                  10:20:00   \n",
      "2  42.212204  -2.180776       2001-06-20                  09:00:00   \n",
      "3  41.728994  -5.595362       2001-04-28                       NaN   \n",
      "4  41.728994  -5.595362       2001-06-02                       NaN   \n",
      "\n",
      "   DURATION MINUTES  AVERAGE MONTH TEMPERATURE  AVERAGE MONTH RAINFALL  \n",
      "0              31.0                      11.84                   27.54  \n",
      "1              38.0                      20.48                   10.43  \n",
      "2             270.0                      20.48                   10.43  \n",
      "3               NaN                      11.84                   27.54  \n",
      "4               NaN                      20.48                   10.43  \n",
      "(251246, 10)\n"
     ]
    }
   ],
   "source": [
    "\n",
    "# --- 5. Ensure Weather Data has Year-Month Format ---\n",
    "# Convert the 'Year_Month' in the temperature dataset to datetime\n",
    "df_temp['Year_Month'] = pd.to_datetime(df_temp['Year_Month'])\n",
    "\n",
    "# Convert the 'date' in the precipitation dataset to datetime, then extract Year-Month\n",
    "df_rain['date'] = pd.to_datetime(df_rain['date'])\n",
    "df_rain['Year_Month'] = df_rain['date'].dt.to_period('M').dt.to_timestamp()\n",
    "\n",
    "# --- 6. Merge Crane Data with Temperature Data (only Temperature) ---\n",
    "# Merge based on 'COUNTRY' and 'Year_Month', but only include the 'Temperature' column\n",
    "\n",
    "merged_temp = pd.merge(\n",
    "    df_crane, df_temp[['Country_Name', 'Year_Month', 'Temperature']],  # Select relevant columns\n",
    "    how='left',  # Use a left join to keep all crane sightings\n",
    "    left_on=['COUNTRY', 'Year_Month'],  # Match by country and Year-Month\n",
    "    right_on=['Country_Name', 'Year_Month'] # Match by country and Year-Month\n",
    ")\n",
    "print(merged_temp.shape)\n",
    "\n",
    "# Rename the temperature column to 'AVERAGE MONTH TEMPERATURE'\n",
    "merged_temp.rename(columns={'Temperature': 'AVERAGE MONTH TEMPERATURE'}, inplace=True)\n",
    "print(merged_temp.shape)\n",
    "# --- 7. Merge with Precipitation Data (only Precipitation) ---\n",
    "# Merge with the precipitation data on 'COUNTRY' and 'Year_Month', but only include the 'precipitation' column\n",
    "merged = pd.merge(\n",
    "    merged_temp, df_rain[['name', 'Year_Month', 'precipitation']],  # Select relevant columns\n",
    "    how='left',  # Use a left join to keep all crane sightings\n",
    "    left_on=['COUNTRY', 'Year_Month'],  # Merge on the same columns for Year-Month and country\n",
    "    right_on=['name', 'Year_Month']\n",
    ")\n",
    "\n",
    "\n",
    "\n",
    "\n",
    "print(merged.shape)\n",
    "\n",
    "\n",
    "# Rename the precipitation column to 'AVERAGE MONTH RAINFALL'\n",
    "merged.rename(columns={'precipitation': 'AVERAGE MONTH RAINFALL'}, inplace=True)\n",
    "\n",
    "# --- 8. Clean Up the Data ---\n",
    "# Drop the extra country columns from merged datasets (if any)\n",
    "merged.drop(columns=['Country_Name', 'name', 'Year_Month'], inplace=True)\n",
    "\n",
    "# --- 9. Check the Result ---\n",
    "print(merged.head())\n",
    "print(merged.shape)"
   ]
  },
  {
   "cell_type": "code",
   "execution_count": 8,
   "id": "eeb37f98",
   "metadata": {},
   "outputs": [],
   "source": [
    "# --- 1. Drop Rows with 'Palestinian Territory' in the Country Column ---\n",
    "merged = merged[merged['COUNTRY'] != 'Palestinian Territory']\n",
    "\n",
    "#merged = merged[merged['COUNTRY'] != 'Kosovo']"
   ]
  },
  {
   "cell_type": "code",
   "execution_count": 9,
   "id": "f7be419d",
   "metadata": {},
   "outputs": [
    {
     "name": "stdout",
     "output_type": "stream",
     "text": [
      "Number of NaN values in 'AVERAGE MONTH TEMPERATURE': 0\n",
      "Number of NaN values in 'AVERAGE MONTH RAINFALL': 0\n"
     ]
    }
   ],
   "source": [
    "# Check for NaN values in the 'AVERAGE MONTH TEMPERATURE' and 'AVERAGE MONTH RAINFALL' columns\n",
    "nan_temperature = merged['AVERAGE MONTH TEMPERATURE'].isna().sum()\n",
    "nan_rainfall = merged['AVERAGE MONTH RAINFALL'].isna().sum()\n",
    "\n",
    "# Print the number of NaN values in each column\n",
    "print(f\"Number of NaN values in 'AVERAGE MONTH TEMPERATURE': {nan_temperature}\")\n",
    "print(f\"Number of NaN values in 'AVERAGE MONTH RAINFALL': {nan_rainfall}\")"
   ]
  },
  {
   "cell_type": "code",
   "execution_count": 10,
   "id": "37a81643",
   "metadata": {
    "scrolled": false
   },
   "outputs": [
    {
     "name": "stdout",
     "output_type": "stream",
     "text": [
      "Rows with NaN in 'AVERAGE MONTH TEMPERATURE':\n",
      "Empty DataFrame\n",
      "Columns: [GLOBAL UNIQUE IDENTIFIER, OBSERVATION COUNT, COUNTRY, LATITUDE, LONGITUDE, OBSERVATION DATE, TIME OBSERVATIONS STARTED, DURATION MINUTES, AVERAGE MONTH TEMPERATURE, AVERAGE MONTH RAINFALL]\n",
      "Index: []\n",
      "\n",
      "Rows with NaN in 'AVERAGE MONTH RAINFALL':\n",
      "Empty DataFrame\n",
      "Columns: [GLOBAL UNIQUE IDENTIFIER, OBSERVATION COUNT, COUNTRY, LATITUDE, LONGITUDE, OBSERVATION DATE, TIME OBSERVATIONS STARTED, DURATION MINUTES, AVERAGE MONTH TEMPERATURE, AVERAGE MONTH RAINFALL]\n",
      "Index: []\n"
     ]
    }
   ],
   "source": [
    "# Filter rows where 'AVERAGE MONTH TEMPERATURE' is NaN\n",
    "nan_temperature_rows = merged[merged['AVERAGE MONTH TEMPERATURE'].isna()]\n",
    "\n",
    "# Filter rows where 'AVERAGE MONTH RAINFALL' is NaN\n",
    "nan_rainfall_rows = merged[merged['AVERAGE MONTH RAINFALL'].isna()]\n",
    "\n",
    "# Print the rows with NaN values in 'AVERAGE MONTH TEMPERATURE'\n",
    "print(\"Rows with NaN in 'AVERAGE MONTH TEMPERATURE':\")\n",
    "print(nan_temperature_rows)\n",
    "\n",
    "# Print the rows with NaN values in 'AVERAGE MONTH RAINFALL'\n",
    "print(\"\\nRows with NaN in 'AVERAGE MONTH RAINFALL':\")\n",
    "print(nan_rainfall_rows)"
   ]
  },
  {
   "cell_type": "code",
   "execution_count": 11,
   "id": "35e5aa3c",
   "metadata": {},
   "outputs": [],
   "source": [
    "#merged.to_csv('crane_temp_rain_2023.csv', index=False)"
   ]
  },
  {
   "cell_type": "code",
   "execution_count": 12,
   "id": "87c2ca6b",
   "metadata": {},
   "outputs": [
    {
     "name": "stdout",
     "output_type": "stream",
     "text": [
      "   Unnamed: 0      country   area_ha  tree_cover_2000_ha  tree_cover_2010_ha  \\\n",
      "0           0  Afghanistan  64385715              205791               71797   \n",
      "1           1  Afghanistan  64385715              205791               71797   \n",
      "2           2  Afghanistan  64385715              205791               71797   \n",
      "3           3  Afghanistan  64385715              205791               71797   \n",
      "4           4  Afghanistan  64385715              205791               71797   \n",
      "\n",
      "   gain_2000-2020_ha  year  tree_loss_ha  \n",
      "0              10741  2001            88  \n",
      "1              10741  2002           179  \n",
      "2              10741  2003           244  \n",
      "3              10741  2004           201  \n",
      "4              10741  2005           236  \n",
      "(5428, 8)\n"
     ]
    }
   ],
   "source": [
    "df_tree = pd.read_csv(r'datasets/cleaned_tree_cover.csv')\n",
    "print(df_tree.head())\n",
    "print(df_tree.shape)"
   ]
  },
  {
   "cell_type": "code",
   "execution_count": 13,
   "id": "3e981a19",
   "metadata": {},
   "outputs": [
    {
     "name": "stdout",
     "output_type": "stream",
     "text": [
      "                         GLOBAL UNIQUE IDENTIFIER OBSERVATION COUNT COUNTRY  \\\n",
      "0  URN:CornellLabOfOrnithology:EBIRD:OBS893567418                 2   Spain   \n",
      "1  URN:CornellLabOfOrnithology:EBIRD:OBS892840772                 1   Spain   \n",
      "2  URN:CornellLabOfOrnithology:EBIRD:OBS875856550                 3   Spain   \n",
      "3  URN:CornellLabOfOrnithology:EBIRD:OBS771039779                 4   Spain   \n",
      "4  URN:CornellLabOfOrnithology:EBIRD:OBS857230402                 X   Spain   \n",
      "\n",
      "    LATITUDE  LONGITUDE OBSERVATION DATE TIME OBSERVATIONS STARTED  \\\n",
      "0  40.813819  -5.705139       2001-04-29                  10:27:00   \n",
      "1  40.813819  -5.705139       2001-06-10                  10:20:00   \n",
      "2  42.212204  -2.180776       2001-06-20                  09:00:00   \n",
      "3  41.728994  -5.595362       2001-04-28                       NaN   \n",
      "4  41.728994  -5.595362       2001-06-02                       NaN   \n",
      "\n",
      "   DURATION MINUTES  AVERAGE MONTH TEMPERATURE  AVERAGE MONTH RAINFALL  year  \\\n",
      "0              31.0                      11.84                   27.54  2001   \n",
      "1              38.0                      20.48                   10.43  2001   \n",
      "2             270.0                      20.48                   10.43  2001   \n",
      "3               NaN                      11.84                   27.54  2001   \n",
      "4               NaN                      20.48                   10.43  2001   \n",
      "\n",
      "  country  tree_loss_ha  percentage_loss  \n",
      "0   Spain         32811         0.064838  \n",
      "1   Spain         32811         0.064838  \n",
      "2   Spain         32811         0.064838  \n",
      "3   Spain         32811         0.064838  \n",
      "4   Spain         32811         0.064838  \n",
      "(250651, 14)\n"
     ]
    }
   ],
   "source": [
    "# Extract year from OBSERVATION DATE if it's not already done\n",
    "merged['year'] = pd.to_datetime(merged['OBSERVATION DATE']).dt.year\n",
    "\n",
    "df_tree['country'] = df_tree['country'].replace({\n",
    "    'Svalbard and Jan Mayen': 'Svalbard',\n",
    "    'Swaziland' : 'Eswatini',\n",
    "    'Republic of Congo' : 'Congo',\n",
    "    'Macedonia' : 'North Macedonia',\n",
    "    'Democratic Republic of the Congo' : 'Democratic Republic of Congo'# Handle the special character in 'TÃ¼rkiye'\n",
    "})\n",
    "\n",
    "\n",
    "df_tree['percentage_loss'] = (df_tree['tree_loss_ha'] / df_tree['area_ha']) * 100\n",
    "# Perform the merge with df_tree\n",
    "merged2 = pd.merge(\n",
    "    merged,\n",
    "    df_tree[['year', 'country', 'tree_loss_ha', 'percentage_loss']],  # Select only relevant columns\n",
    "    how='left', \n",
    "    left_on=['year', 'COUNTRY'], \n",
    "    right_on=['year', 'country']\n",
    ")\n",
    "# Keep only rows where the year is 2001 or later\n",
    "#merged2 = merged2[merged2['year'] >= 2001]\n",
    "\n",
    "# Drop the redundant 'country' column from df_tree if necessary\n",
    "#merged2.drop(columns=['country'], inplace=True)\n",
    "\n",
    "\n",
    "\n",
    "\n",
    "\n",
    "\n",
    "print(merged2.head())\n",
    "print(merged2.shape)\n",
    "\n",
    "\n"
   ]
  },
  {
   "cell_type": "code",
   "execution_count": 14,
   "id": "93e8338a",
   "metadata": {},
   "outputs": [
    {
     "name": "stdout",
     "output_type": "stream",
     "text": [
      "0\n",
      "Empty DataFrame\n",
      "Columns: [GLOBAL UNIQUE IDENTIFIER, OBSERVATION COUNT, COUNTRY, LATITUDE, LONGITUDE, OBSERVATION DATE, TIME OBSERVATIONS STARTED, DURATION MINUTES, AVERAGE MONTH TEMPERATURE, AVERAGE MONTH RAINFALL, year, country, tree_loss_ha, percentage_loss]\n",
      "Index: []\n"
     ]
    }
   ],
   "source": [
    "nan_tree = merged2['tree_loss_ha'].isna().sum()\n",
    "print(nan_tree)\n",
    "\n",
    "nan_tree_rows = merged2[merged2['tree_loss_ha'].isna()]\n",
    "print(nan_tree_rows)"
   ]
  },
  {
   "cell_type": "code",
   "execution_count": 15,
   "id": "af110d41",
   "metadata": {},
   "outputs": [
    {
     "name": "stdout",
     "output_type": "stream",
     "text": [
      "   Year      Country  Population\n",
      "0  1975  Afghanistan  12185168.7\n",
      "1  1976  Afghanistan  12251504.3\n",
      "2  1977  Afghanistan  12317839.9\n",
      "3  1978  Afghanistan  12384175.5\n",
      "4  1979  Afghanistan  12450511.1\n",
      "(12250, 3)\n"
     ]
    }
   ],
   "source": [
    "df_pop = pd.read_csv(r'datasets/Processed_PopulationData.csv')\n",
    "print(df_pop.head())\n",
    "print(df_pop.shape)"
   ]
  },
  {
   "cell_type": "code",
   "execution_count": 16,
   "id": "0821c3f5",
   "metadata": {},
   "outputs": [
    {
     "name": "stdout",
     "output_type": "stream",
     "text": [
      "                         GLOBAL UNIQUE IDENTIFIER OBSERVATION COUNT COUNTRY  \\\n",
      "0  URN:CornellLabOfOrnithology:EBIRD:OBS893567418                 2   Spain   \n",
      "1  URN:CornellLabOfOrnithology:EBIRD:OBS892840772                 1   Spain   \n",
      "2  URN:CornellLabOfOrnithology:EBIRD:OBS875856550                 3   Spain   \n",
      "3  URN:CornellLabOfOrnithology:EBIRD:OBS771039779                 4   Spain   \n",
      "4  URN:CornellLabOfOrnithology:EBIRD:OBS857230402                 X   Spain   \n",
      "\n",
      "    LATITUDE  LONGITUDE OBSERVATION DATE TIME OBSERVATIONS STARTED  \\\n",
      "0  40.813819  -5.705139       2001-04-29                  10:27:00   \n",
      "1  40.813819  -5.705139       2001-06-10                  10:20:00   \n",
      "2  42.212204  -2.180776       2001-06-20                  09:00:00   \n",
      "3  41.728994  -5.595362       2001-04-28                       NaN   \n",
      "4  41.728994  -5.595362       2001-06-02                       NaN   \n",
      "\n",
      "   DURATION MINUTES  AVERAGE MONTH TEMPERATURE  AVERAGE MONTH RAINFALL  year  \\\n",
      "0              31.0                      11.84                   27.54  2001   \n",
      "1              38.0                      20.48                   10.43  2001   \n",
      "2             270.0                      20.48                   10.43  2001   \n",
      "3               NaN                      11.84                   27.54  2001   \n",
      "4               NaN                      20.48                   10.43  2001   \n",
      "\n",
      "  country  tree_loss_ha  percentage_loss  Population  \n",
      "0   Spain         32811         0.064838  41327984.6  \n",
      "1   Spain         32811         0.064838  41327984.6  \n",
      "2   Spain         32811         0.064838  41327984.6  \n",
      "3   Spain         32811         0.064838  41327984.6  \n",
      "4   Spain         32811         0.064838  41327984.6  \n"
     ]
    }
   ],
   "source": [
    "merged2['COUNTRY'] = merged2['COUNTRY'].replace({\n",
    "    'Czech Republic': 'Czechia',  # Handle the special character in 'TÃ¼rkiye'\n",
    "})\n",
    "df_pop['Country'] = df_pop['Country'].replace({\n",
    "    'Svalbard and Jan Mayen': 'Svalbard',  # Handle the special character in 'TÃ¼rkiye'\n",
    "})\n",
    "merged3 = pd.merge(\n",
    "    merged2,\n",
    "    df_pop[['Year', 'Country', 'Population']],  # Select only relevant columns\n",
    "    how='left', \n",
    "    left_on=['year', 'COUNTRY'], \n",
    "    right_on=['Year', 'Country']\n",
    ")\n",
    "merged3.drop(columns=['Country', 'Year'], inplace=True)\n",
    "print(merged3.head())"
   ]
  },
  {
   "cell_type": "code",
   "execution_count": 17,
   "id": "78d728b2",
   "metadata": {},
   "outputs": [
    {
     "name": "stdout",
     "output_type": "stream",
     "text": [
      "1\n",
      "                              GLOBAL UNIQUE IDENTIFIER OBSERVATION COUNT  \\\n",
      "119583  URN:CornellLabOfOrnithology:EBIRD:OBS590612764                20   \n",
      "\n",
      "             COUNTRY   LATITUDE  LONGITUDE OBSERVATION DATE  \\\n",
      "119583  Vatican City  41.902234  12.456492       2018-03-11   \n",
      "\n",
      "       TIME OBSERVATIONS STARTED  DURATION MINUTES  AVERAGE MONTH TEMPERATURE  \\\n",
      "119583                  10:36:00               NaN                       11.3   \n",
      "\n",
      "        AVERAGE MONTH RAINFALL  year       country  tree_loss_ha  \\\n",
      "119583                    90.4  2018  Vatican City             0   \n",
      "\n",
      "        percentage_loss  Population  \n",
      "119583              0.0         NaN  \n"
     ]
    }
   ],
   "source": [
    "nan_pop = merged3['Population'].isna().sum()\n",
    "print(nan_pop)\n",
    "\n",
    "nan_pop_rows = merged3[merged3['Population'].isna()]\n",
    "print(nan_pop_rows)\n",
    "\n",
    "merged3.loc[merged3['Population'].isna(), 'Population'] = 545"
   ]
  },
  {
   "cell_type": "code",
   "execution_count": 18,
   "id": "7873d87f",
   "metadata": {},
   "outputs": [
    {
     "name": "stdout",
     "output_type": "stream",
     "text": [
      "Empty DataFrame\n",
      "Columns: [GLOBAL UNIQUE IDENTIFIER, OBSERVATION COUNT, COUNTRY, LATITUDE, LONGITUDE, OBSERVATION DATE, TIME OBSERVATIONS STARTED, DURATION MINUTES, AVERAGE MONTH TEMPERATURE, AVERAGE MONTH RAINFALL, year, country, tree_loss_ha, percentage_loss, Population]\n",
      "Index: []\n"
     ]
    },
    {
     "data": {
      "text/plain": [
       "np.int64(0)"
      ]
     },
     "execution_count": 18,
     "metadata": {},
     "output_type": "execute_result"
    }
   ],
   "source": [
    "merged3.to_csv('stork_temp_rain_pop_tree_2001-2020.csv', index=False)\n",
    "#merged3.drop(columns=['country'], inplace=True)\n",
    "duplicates = merged3[merged3.duplicated()]\n",
    "print(duplicates)\n",
    "merged3.duplicated().sum()\n"
   ]
  },
  {
   "cell_type": "code",
   "execution_count": 19,
   "id": "a3ad26be",
   "metadata": {},
   "outputs": [
    {
     "name": "stdout",
     "output_type": "stream",
     "text": [
      "   Unnamed: 0                        GLOBAL UNIQUE IDENTIFIER  \\\n",
      "0           0  URN:CornellLabOfOrnithology:EBIRD:OBS893567418   \n",
      "1           1  URN:CornellLabOfOrnithology:EBIRD:OBS892840772   \n",
      "2           2  URN:CornellLabOfOrnithology:EBIRD:OBS875856550   \n",
      "3           3  URN:CornellLabOfOrnithology:EBIRD:OBS771039779   \n",
      "4           4  URN:CornellLabOfOrnithology:EBIRD:OBS857230402   \n",
      "\n",
      "  OBSERVATION COUNT COUNTRY   LATITUDE  LONGITUDE OBSERVATION DATE  \\\n",
      "0                 2   Spain  40.813819  -5.705139       2001-04-29   \n",
      "1                 1   Spain  40.813819  -5.705139       2001-06-10   \n",
      "2                 3   Spain  42.212204  -2.180776       2001-06-20   \n",
      "3                 4   Spain  41.728994  -5.595362       2001-04-28   \n",
      "4                 X   Spain  41.728994  -5.595362       2001-06-02   \n",
      "\n",
      "  TIME OBSERVATIONS STARTED  DURATION MINUTES  WT_COUNT_10KM_RADIUS  \\\n",
      "0                  10:27:00              31.0                   0.0   \n",
      "1                  10:20:00              38.0                   0.0   \n",
      "2                  09:00:00             270.0                2097.0   \n",
      "3                       NaN               NaN                   0.0   \n",
      "4                       NaN               NaN                   0.0   \n",
      "\n",
      "                                unique identifier   NDVI  \n",
      "0  URN:CornellLabOfOrnithology:EBIRD:OBS893567418  0.580  \n",
      "1  URN:CornellLabOfOrnithology:EBIRD:OBS892840772  0.320  \n",
      "2  URN:CornellLabOfOrnithology:EBIRD:OBS875856550  0.296  \n",
      "3  URN:CornellLabOfOrnithology:EBIRD:OBS771039779  0.328  \n",
      "4  URN:CornellLabOfOrnithology:EBIRD:OBS857230402  0.196  \n",
      "(251246, 12)\n"
     ]
    },
    {
     "data": {
      "text/plain": [
       "Unnamed: 0                       0\n",
       "GLOBAL UNIQUE IDENTIFIER         0\n",
       "OBSERVATION COUNT                0\n",
       "COUNTRY                          0\n",
       "LATITUDE                         0\n",
       "LONGITUDE                        0\n",
       "OBSERVATION DATE                 0\n",
       "TIME OBSERVATIONS STARTED    32934\n",
       "DURATION MINUTES             60924\n",
       "WT_COUNT_10KM_RADIUS             0\n",
       "unique identifier                0\n",
       "NDVI                          6520\n",
       "dtype: int64"
      ]
     },
     "execution_count": 19,
     "metadata": {},
     "output_type": "execute_result"
    }
   ],
   "source": [
    "df_veg = pd.read_csv(r'datasets/stork_ndvi_turbine.csv')\n",
    "print(df_veg.head())\n",
    "print(df_veg.shape)\n",
    "df_veg.isna().sum()"
   ]
  },
  {
   "cell_type": "code",
   "execution_count": 20,
   "id": "eaaea0ef",
   "metadata": {},
   "outputs": [
    {
     "name": "stdout",
     "output_type": "stream",
     "text": [
      "                         GLOBAL UNIQUE IDENTIFIER OBSERVATION COUNT COUNTRY  \\\n",
      "0  URN:CornellLabOfOrnithology:EBIRD:OBS893567418                 2   Spain   \n",
      "1  URN:CornellLabOfOrnithology:EBIRD:OBS892840772                 1   Spain   \n",
      "2  URN:CornellLabOfOrnithology:EBIRD:OBS875856550                 3   Spain   \n",
      "3  URN:CornellLabOfOrnithology:EBIRD:OBS771039779                 4   Spain   \n",
      "4  URN:CornellLabOfOrnithology:EBIRD:OBS857230402                 X   Spain   \n",
      "\n",
      "    LATITUDE  LONGITUDE OBSERVATION DATE TIME OBSERVATIONS STARTED  \\\n",
      "0  40.813819  -5.705139       2001-04-29                  10:27:00   \n",
      "1  40.813819  -5.705139       2001-06-10                  10:20:00   \n",
      "2  42.212204  -2.180776       2001-06-20                  09:00:00   \n",
      "3  41.728994  -5.595362       2001-04-28                       NaN   \n",
      "4  41.728994  -5.595362       2001-06-02                       NaN   \n",
      "\n",
      "   DURATION MINUTES  AVERAGE MONTH TEMPERATURE  AVERAGE MONTH RAINFALL  year  \\\n",
      "0              31.0                      11.84                   27.54  2001   \n",
      "1              38.0                      20.48                   10.43  2001   \n",
      "2             270.0                      20.48                   10.43  2001   \n",
      "3               NaN                      11.84                   27.54  2001   \n",
      "4               NaN                      20.48                   10.43  2001   \n",
      "\n",
      "  country  tree_loss_ha  percentage_loss  Population  \\\n",
      "0   Spain         32811         0.064838  41327984.6   \n",
      "1   Spain         32811         0.064838  41327984.6   \n",
      "2   Spain         32811         0.064838  41327984.6   \n",
      "3   Spain         32811         0.064838  41327984.6   \n",
      "4   Spain         32811         0.064838  41327984.6   \n",
      "\n",
      "                                unique identifier   NDVI  WT_COUNT_10KM_RADIUS  \n",
      "0  URN:CornellLabOfOrnithology:EBIRD:OBS893567418  0.580                   0.0  \n",
      "1  URN:CornellLabOfOrnithology:EBIRD:OBS892840772  0.320                   0.0  \n",
      "2  URN:CornellLabOfOrnithology:EBIRD:OBS875856550  0.296                2097.0  \n",
      "3  URN:CornellLabOfOrnithology:EBIRD:OBS771039779  0.328                   0.0  \n",
      "4  URN:CornellLabOfOrnithology:EBIRD:OBS857230402  0.196                   0.0  \n",
      "(250651, 18)\n",
      "(250651, 15)\n"
     ]
    }
   ],
   "source": [
    "\n",
    "merged4 = pd.merge(\n",
    "    merged3,\n",
    "    df_veg[[ 'unique identifier', 'NDVI', 'WT_COUNT_10KM_RADIUS']],  # Select only relevant columns\n",
    "    how='left', \n",
    "    left_on=['GLOBAL UNIQUE IDENTIFIER'], \n",
    "    right_on=['unique identifier']\n",
    ")\n",
    "#merged4 = merged4[merged4['OBSERVATION DATE'] <= '2020-06-30']\n",
    "print(merged4.head())\n",
    "print(merged4.shape)\n",
    "merged4.drop(columns=['unique identifier', 'year', 'country'], inplace=True)\n",
    "print(merged4.shape)"
   ]
  },
  {
   "cell_type": "markdown",
   "id": "8286daf7",
   "metadata": {},
   "source": [
    "\n",
    "df_veg['date'] = pd.to_datetime(df_veg['date'], errors='coerce')\n",
    "print(df_veg.head())\n",
    "\n",
    "merged4 = pd.merge(\n",
    "    merged3,\n",
    "    df_veg[['date', 'latitude', 'longitude', 'NDVI']],  # Select only relevant columns\n",
    "    how='left', \n",
    "    left_on=['OBSERVATION DATE', 'LATITUDE', 'LONGITUDE'], \n",
    "    right_on=['date', 'latitude', 'longitude']\n",
    ")\n",
    "merged4 = merged4[merged4['OBSERVATION DATE'] <= '2020-06-30']\n",
    "\n",
    "print(merged4.head())\n",
    "print(merged4.shape)\n"
   ]
  },
  {
   "cell_type": "code",
   "execution_count": 21,
   "id": "8867c233",
   "metadata": {},
   "outputs": [
    {
     "name": "stdout",
     "output_type": "stream",
     "text": [
      "6518\n",
      "                               GLOBAL UNIQUE IDENTIFIER OBSERVATION COUNT  \\\n",
      "34       URN:CornellLabOfOrnithology:EBIRD:OBS102006496                 X   \n",
      "37       URN:CornellLabOfOrnithology:EBIRD:OBS102007758                 X   \n",
      "265     URN:CornellLabOfOrnithology:EBIRD:OBS1899241640                 3   \n",
      "267     URN:CornellLabOfOrnithology:EBIRD:OBS1523833242                 2   \n",
      "328     URN:CornellLabOfOrnithology:EBIRD:OBS1040049619                60   \n",
      "...                                                 ...               ...   \n",
      "250507   URN:CornellLabOfOrnithology:EBIRD:OBS849763148                 3   \n",
      "250522   URN:CornellLabOfOrnithology:EBIRD:OBS857940201                25   \n",
      "250559   URN:CornellLabOfOrnithology:EBIRD:OBS853856739                 2   \n",
      "250566   URN:CornellLabOfOrnithology:EBIRD:OBS861832680                 2   \n",
      "250641   URN:CornellLabOfOrnithology:EBIRD:OBS855503912                42   \n",
      "\n",
      "            COUNTRY   LATITUDE  LONGITUDE OBSERVATION DATE  \\\n",
      "34           Turkey  37.656645  31.273956       2001-05-21   \n",
      "37           Turkey  38.461116  31.375580       2001-05-25   \n",
      "265         Czechia  49.457092  17.448679       2001-03-23   \n",
      "267           Kenya  -0.771080  36.351700       2001-08-10   \n",
      "328        Portugal  38.800120  -8.956432       2001-01-17   \n",
      "...             ...        ...        ...              ...   \n",
      "250507        Spain  38.908673  -6.618017       2020-01-11   \n",
      "250522        Spain  40.405662  -3.497156       2020-01-30   \n",
      "250559        Spain  41.736319   0.584016       2020-01-20   \n",
      "250566  Netherlands  51.702150   5.968820       2020-02-08   \n",
      "250641        Spain  39.198956  -5.432059       2020-01-24   \n",
      "\n",
      "       TIME OBSERVATIONS STARTED  DURATION MINUTES  AVERAGE MONTH TEMPERATURE  \\\n",
      "34                      09:00:00             480.0                      14.16   \n",
      "37                      09:00:00             480.0                      14.16   \n",
      "265                     11:45:00               NaN                       3.62   \n",
      "267                     08:00:00               NaN                      23.79   \n",
      "328                     10:00:00             420.0                      10.28   \n",
      "...                          ...               ...                        ...   \n",
      "250507                  13:55:00              34.0                       6.91   \n",
      "250522                  15:20:00             110.0                       6.91   \n",
      "250559                  11:20:00              19.0                       6.91   \n",
      "250566                  15:00:00               NaN                       7.03   \n",
      "250641                  13:35:00               NaN                       6.91   \n",
      "\n",
      "        AVERAGE MONTH RAINFALL  tree_loss_ha  percentage_loss   Population  \\\n",
      "34                       81.46         22910         0.029345  65030121.80   \n",
      "37                       81.46         22910         0.029345  65030121.80   \n",
      "265                      68.94          3460         0.043889  10249265.24   \n",
      "267                      30.26         19027         0.032470  31919807.90   \n",
      "328                     231.89         24405         0.272514  10345521.70   \n",
      "...                        ...           ...              ...          ...   \n",
      "250507                   69.95        101988         0.201540  47362016.00   \n",
      "250522                   69.95        101988         0.201540  47362016.00   \n",
      "250559                   69.95        101988         0.201540  47362016.00   \n",
      "250566                  121.89          1922         0.051028  17419666.50   \n",
      "250641                   69.95        101988         0.201540  47362016.00   \n",
      "\n",
      "        NDVI  WT_COUNT_10KM_RADIUS  \n",
      "34       NaN                   0.0  \n",
      "37       NaN                   0.0  \n",
      "265      NaN                   0.0  \n",
      "267      NaN                   0.0  \n",
      "328      NaN                   0.0  \n",
      "...      ...                   ...  \n",
      "250507   NaN                   0.0  \n",
      "250522   NaN                   0.0  \n",
      "250559   NaN                   0.0  \n",
      "250566   NaN                   0.0  \n",
      "250641   NaN                   0.0  \n",
      "\n",
      "[6518 rows x 15 columns]\n"
     ]
    }
   ],
   "source": [
    "nan_veg = merged4['NDVI'].isna().sum()\n",
    "print(nan_veg)\n",
    "\n",
    "nan_veg_rows = merged4[merged4['NDVI'].isna()]\n",
    "print(nan_veg_rows)"
   ]
  },
  {
   "cell_type": "code",
   "execution_count": 22,
   "id": "ef972128",
   "metadata": {},
   "outputs": [
    {
     "data": {
      "text/plain": [
       "GLOBAL UNIQUE IDENTIFIER         0\n",
       "OBSERVATION COUNT                0\n",
       "COUNTRY                          0\n",
       "LATITUDE                         0\n",
       "LONGITUDE                        0\n",
       "OBSERVATION DATE                 0\n",
       "TIME OBSERVATIONS STARTED    32900\n",
       "DURATION MINUTES             60837\n",
       "AVERAGE MONTH TEMPERATURE        0\n",
       "AVERAGE MONTH RAINFALL           0\n",
       "tree_loss_ha                     0\n",
       "percentage_loss                  0\n",
       "Population                       0\n",
       "NDVI                          6518\n",
       "WT_COUNT_10KM_RADIUS             0\n",
       "dtype: int64"
      ]
     },
     "execution_count": 22,
     "metadata": {},
     "output_type": "execute_result"
    }
   ],
   "source": [
    "merged4.isna().sum()"
   ]
  },
  {
   "cell_type": "code",
   "execution_count": 23,
   "id": "134ee960",
   "metadata": {},
   "outputs": [
    {
     "name": "stdout",
     "output_type": "stream",
     "text": [
      "Empty DataFrame\n",
      "Columns: [GLOBAL UNIQUE IDENTIFIER, OBSERVATION COUNT, COUNTRY, LATITUDE, LONGITUDE, OBSERVATION DATE, TIME OBSERVATIONS STARTED, DURATION MINUTES, AVERAGE MONTH TEMPERATURE, AVERAGE MONTH RAINFALL, tree_loss_ha, percentage_loss, Population, NDVI, WT_COUNT_10KM_RADIUS]\n",
      "Index: []\n"
     ]
    },
    {
     "data": {
      "text/plain": [
       "np.int64(0)"
      ]
     },
     "execution_count": 23,
     "metadata": {},
     "output_type": "execute_result"
    }
   ],
   "source": [
    "\n",
    "duplicates = merged4[merged4.duplicated()]\n",
    "print(duplicates)\n",
    "merged4.duplicated().sum()"
   ]
  },
  {
   "cell_type": "code",
   "execution_count": 27,
   "id": "7ce36c02",
   "metadata": {},
   "outputs": [],
   "source": [
    "merged4.to_csv('stork_temp_rain_tree_veg_pop_turb_2001-2020.csv', index=False)"
   ]
  },
  {
   "cell_type": "code",
   "execution_count": null,
   "id": "ddb9da5b",
   "metadata": {},
   "outputs": [],
   "source": []
  },
  {
   "cell_type": "code",
   "execution_count": 25,
   "id": "b6d3a622",
   "metadata": {},
   "outputs": [
    {
     "data": {
      "text/plain": [
       "GLOBAL UNIQUE IDENTIFIER    250651\n",
       "dtype: int64"
      ]
     },
     "execution_count": 25,
     "metadata": {},
     "output_type": "execute_result"
    }
   ],
   "source": [
    "merged4[['GLOBAL UNIQUE IDENTIFIER']].nunique()\n"
   ]
  },
  {
   "cell_type": "code",
   "execution_count": 26,
   "id": "6504b9ec",
   "metadata": {},
   "outputs": [
    {
     "name": "stdout",
     "output_type": "stream",
     "text": [
      "1310\n"
     ]
    }
   ],
   "source": [
    "num_unique_combinations = merged[['year', 'COUNTRY']].drop_duplicates().shape[0]\n",
    "\n",
    "print(num_unique_combinations)"
   ]
  },
  {
   "cell_type": "markdown",
   "id": "6ed84f49",
   "metadata": {},
   "source": [
    "NaN situation for 2001-2020 on NDVI\n",
    "what about including more dates with missing attributes\n",
    "\n",
    "\n",
    "temp and rain up to 2023\n",
    "tree loss 2001-2023\n",
    "ndvi 1999-2020  (missing data)\n",
    "windmill all dates\n"
   ]
  },
  {
   "cell_type": "code",
   "execution_count": null,
   "id": "67550a59",
   "metadata": {},
   "outputs": [],
   "source": []
  }
 ],
 "metadata": {
  "kernelspec": {
   "display_name": "Python 3 (ipykernel)",
   "language": "python",
   "name": "python3"
  },
  "language_info": {
   "codemirror_mode": {
    "name": "ipython",
    "version": 3
   },
   "file_extension": ".py",
   "mimetype": "text/x-python",
   "name": "python",
   "nbconvert_exporter": "python",
   "pygments_lexer": "ipython3",
   "version": "3.9.21"
  }
 },
 "nbformat": 4,
 "nbformat_minor": 5
}
