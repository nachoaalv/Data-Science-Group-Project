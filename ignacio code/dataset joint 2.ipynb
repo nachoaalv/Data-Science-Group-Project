{
 "cells": [
  {
   "cell_type": "code",
   "execution_count": 1,
   "id": "e7d1c980",
   "metadata": {},
   "outputs": [
    {
     "name": "stdout",
     "output_type": "stream",
     "text": [
      "                          GLOBAL UNIQUE IDENTIFIER OBSERVATION COUNT  \\\n",
      "0  URN:CornellLabOfOrnithology:EBIRD:OBS2783288224                80   \n",
      "1  URN:CornellLabOfOrnithology:EBIRD:OBS2786783152               700   \n",
      "2  URN:CornellLabOfOrnithology:EBIRD:OBS2784026626               550   \n",
      "3  URN:CornellLabOfOrnithology:EBIRD:OBS2803371669                80   \n",
      "4  URN:CornellLabOfOrnithology:EBIRD:OBS2826101970                40   \n",
      "\n",
      "        COUNTRY   LATITUDE  LONGITUDE OBSERVATION DATE  \\\n",
      "0         India  19.141094  72.960988       11/01/2025   \n",
      "1         Spain  38.166360  -0.730569       15/01/2025   \n",
      "2  Saudi Arabia  26.490437  50.056602       14/01/2025   \n",
      "3         Spain  40.658953   0.783074       21/01/2025   \n",
      "4          Oman  17.881930  55.601978       29/01/2025   \n",
      "\n",
      "  TIME OBSERVATIONS STARTED  DURATION MINUTES  \n",
      "0                  07:34:00             299.0  \n",
      "1                  10:33:00              59.0  \n",
      "2                  08:15:00              80.0  \n",
      "3                  08:52:00             274.0  \n",
      "4                  07:50:00              81.0  \n",
      "(345505, 8)\n"
     ]
    }
   ],
   "source": [
    "from sklearn.linear_model import LinearRegression\n",
    "import pandas as pd \n",
    "import numpy as np \n",
    "import matplotlib.pyplot as plt\n",
    "import seaborn as sns \n",
    "import warnings\n",
    "warnings.filterwarnings('ignore')\n",
    "\n",
    "# Load the CSV file\n",
    "# Data file should be in the same directory as the code\n",
    "file_path = r\"flamingo.csv\"\n",
    "df_crane = pd.read_csv(file_path)\n",
    "\n",
    "print(df_crane.head())\n",
    "print(df_crane.shape)\n"
   ]
  },
  {
   "cell_type": "code",
   "execution_count": 2,
   "id": "e91938db",
   "metadata": {},
   "outputs": [
    {
     "name": "stdout",
     "output_type": "stream",
     "text": [
      "                              GLOBAL UNIQUE IDENTIFIER OBSERVATION COUNT  \\\n",
      "10090   URN:CornellLabOfOrnithology:EBIRD:OBS893538867                 1   \n",
      "10091   URN:CornellLabOfOrnithology:EBIRD:OBS843912433                 1   \n",
      "10092  URN:CornellLabOfOrnithology:EBIRD:OBS2143453118                 1   \n",
      "10093  URN:CornellLabOfOrnithology:EBIRD:OBS2112747536                 3   \n",
      "10094  URN:CornellLabOfOrnithology:EBIRD:OBS2218298031                 X   \n",
      "\n",
      "                    COUNTRY   LATITUDE  LONGITUDE OBSERVATION DATE  \\\n",
      "10090  United Arab Emirates  25.169707  55.432797       2001-12-15   \n",
      "10091                  Oman  25.672686  56.271832       2001-04-19   \n",
      "10092          South Africa -26.350960  28.511238       2001-02-11   \n",
      "10093          South Africa -26.350960  28.511238       2001-01-20   \n",
      "10094          South Africa -26.350960  28.511238       2001-10-26   \n",
      "\n",
      "      TIME OBSERVATIONS STARTED  DURATION MINUTES  \n",
      "10090                       NaN               NaN  \n",
      "10091                       NaN               NaN  \n",
      "10092                       NaN               NaN  \n",
      "10093                       NaN               NaN  \n",
      "10094                  06:30:00             300.0  \n",
      "(126349, 8)\n"
     ]
    }
   ],
   "source": [
    "df_crane['OBSERVATION DATE'] = pd.to_datetime(df_crane['OBSERVATION DATE'], format='%d/%m/%Y', errors='coerce')\n",
    "\n",
    "# Define the date range\n",
    "start_date = '2001-01-01'\n",
    "end_date = '2020-06-30'\n",
    "\n",
    "# Filter the DataFrame\n",
    "df_crane = df_crane[(df_crane['OBSERVATION DATE'] >= start_date) & \n",
    "                       (df_crane['OBSERVATION DATE'] <= end_date)]\n",
    "\n",
    "# Display the filtered DataFrame\n",
    "print(df_crane.head())\n",
    "print(df_crane.shape)\n",
    "#df_crane.to_csv('Flamingo 2001-2020.csv', index=False)"
   ]
  },
  {
   "cell_type": "code",
   "execution_count": 3,
   "id": "8a2daf78",
   "metadata": {},
   "outputs": [
    {
     "name": "stdout",
     "output_type": "stream",
     "text": [
      "  code             name      continent        date  precipitation  year\n",
      "0  ABW    Aruba (Neth.)  North America  1901-01-01          33.30   NaN\n",
      "1  AFG      Afghanistan           Asia  1901-01-01          48.01   NaN\n",
      "2  AGO           Angola         Africa  1901-01-01         152.68   NaN\n",
      "3  AIA  Anguilla (U.K.)  North America  1901-01-01          92.60   NaN\n",
      "4  ALA          Finland         Europe  1901-01-01          15.14   NaN\n",
      "(352764, 6)\n"
     ]
    }
   ],
   "source": [
    "df_rain1 = pd.read_csv(r'datasets/cleaned_precipitation.csv')\n",
    "\n",
    "df_rain2 = pd.read_csv(r'datasets/cleaned_precipitation2.csv')\n",
    "\n",
    "\n",
    "df_rain= pd.concat([df_rain1, df_rain2], ignore_index=True)\n",
    "\n",
    "print(df_rain.head())\n",
    "print(df_rain.shape)"
   ]
  },
  {
   "cell_type": "code",
   "execution_count": 4,
   "id": "3b34d2f5",
   "metadata": {},
   "outputs": [
    {
     "name": "stdout",
     "output_type": "stream",
     "text": [
      "  Country_Code     Country_Name  Year_Month  Temperature\n",
      "0          ABW    Aruba (Neth.)  1901-01-01        27.20\n",
      "1          AFG      Afghanistan  1901-01-01        -0.82\n",
      "2          AGO           Angola  1901-01-01        22.50\n",
      "3          AIA  Anguilla (U.K.)  1901-01-01        26.10\n",
      "4          ALA    Åland Islands  1901-01-01        -4.15\n",
      "(360144, 4)\n"
     ]
    }
   ],
   "source": [
    "df_temp = pd.read_csv(r'datasets/cleaned_temperature.csv')\n",
    "print(df_temp.head())\n",
    "print(df_temp.shape)"
   ]
  },
  {
   "cell_type": "code",
   "execution_count": 5,
   "id": "b60767bf",
   "metadata": {},
   "outputs": [],
   "source": [
    "# --- 1. Standardize Country Names in Crane Dataset ---\n",
    "# Replace the country names in the crane dataset to match the temperature and precipitation datasets\n",
    "df_crane['COUNTRY'] = df_crane['COUNTRY'].replace({\n",
    "    'TÃ¼rkiye': 'Turkey', \n",
    "    'Türkiye' : 'Turkey',\n",
    "    'Western Sahara' : 'Morocco',\n",
    "    'DR Congo' : 'Democratic Republic of Congo',\n",
    "    'Vatican City (Holy See)' : 'Vatican City'# Handle the special character in 'TÃ¼rkiye'\n",
    "})\n",
    "\n",
    "# --- 2. Standardize Country Names in Temperature and Precipitation Datasets ---\n",
    "# Replace the country names in the temperature dataset to match the crane dataset\n",
    "df_temp['Country_Name'] = df_temp['Country_Name'].replace({\n",
    "    'United States of America': 'United States',  # Standardize to 'United States'\n",
    "    'Arab Republic of Egypt' : 'Egypt',\n",
    "    'Republic of Korea' : 'South Korea',\n",
    "    'D. P. R. of Korea' : 'North Korea',\n",
    "    'Islamic Republic of Iran' : 'Iran',\n",
    "    'Slovak Republic' : 'Slovakia',\n",
    "    'Svalbard and Jan Mayen (Nor.)' : 'Svalbard',\n",
    "    'Syrian Arab Republic' : 'Syria',\n",
    "    'Isle of Man (U.K.)' : 'Isle of Man',\n",
    "    'Gibraltar (U.K.)' : 'Gibraltar',\n",
    "    'Republic of Yemen' : 'Yemen',\n",
    "    'Kyrgyz Republic' : 'Kyrgyzstan',\n",
    "    'Faroe Islands (Den.)' : 'Faroe Islands',\n",
    "    'Jersey (U.K.)' : 'Jersey',\n",
    "    'Guernsey (U.K.)' : 'Guernsey',\n",
    "    'Russian Federation': 'Russia',\n",
    "    'Türkiye' : 'Turkey',\n",
    "    'The Gambia' : 'Gambia'# Standardize to 'Russia'\n",
    "})\n",
    "\n",
    "# --- 1. Replace 'China' with 'Taiwan' for rows where the country code is 'TWN' ---\n",
    "df_rain.loc[df_rain['code'] == 'TWN', 'name'] = 'Taiwan'\n",
    "df_rain.loc[df_rain['code'] == 'MTQ', 'name'] = 'Martinique'\n",
    "\n",
    "\n",
    "# --- 3. Proceed with the merge or other steps ---\n",
    "# Continue with the rest of your merge or processing as needed\n",
    "\n",
    "# Replace the country names in the precipitation dataset\n",
    "df_rain['name'] = df_rain['name'].replace({\n",
    "    'United States of America': 'United States',  # Standardize to 'United States'\n",
    "    'Arab Republic of Egypt' : 'Egypt',\n",
    "    'Republic of Korea' : 'South Korea',\n",
    "    'D. P. R. of Korea' : 'North Korea',\n",
    "    'Islamic Republic of Iran' : 'Iran',\n",
    "    'Slovak Republic' : 'Slovakia',\n",
    "    'Svalbard and Jan Mayen (Nor.)' : 'Svalbard',\n",
    "    'Syrian Arab Republic' : 'Syria',\n",
    "    'Isle of Man (U.K.)' : 'Isle of Man',\n",
    "    'Gibraltar (U.K.)' : 'Gibraltar',\n",
    "    'Republic of Yemen' : 'Yemen',\n",
    "    'Kyrgyz Republic' : 'Kyrgyzstan',\n",
    "    'Faroe Islands (Den.)' : 'Faroe Islands',\n",
    "    'Jersey (U.K.)' : 'Jersey',\n",
    "    'Guernsey (U.K.)' : 'Guernsey',\n",
    "    'Russian Federation': 'Russia',\n",
    "    'Türkiye' : 'Turkey',\n",
    "    'The Gambia' : 'Gambia'# Standardize to 'Russia'\n",
    "})\n",
    "df_rain = df_rain[~((df_rain['name'] == 'France') & (df_rain['code'] != 'FRA'))]\n",
    "df_rain = df_rain[~((df_rain['name'] == 'Finland') & (df_rain['code'] != 'FIN'))]"
   ]
  },
  {
   "cell_type": "code",
   "execution_count": 6,
   "id": "dfe502ef",
   "metadata": {},
   "outputs": [
    {
     "name": "stdout",
     "output_type": "stream",
     "text": [
      "(126349, 9)\n"
     ]
    }
   ],
   "source": [
    "# --- 3. Convert 'OBSERVATION DATE' to Datetime and Extract Year-Month in the Crane Dataset ---\n",
    "# Convert 'OBSERVATION DATE' to datetime format\n",
    "df_crane['OBSERVATION DATE'] = pd.to_datetime(df_crane['OBSERVATION DATE'], format='%d/%m/%Y', errors='coerce')\n",
    "\n",
    "\n",
    "# Extract Year-Month (the first day of the month) from the 'OBSERVATION DATE'\n",
    "df_crane['Year_Month'] = df_crane['OBSERVATION DATE'].dt.to_period('M').dt.to_timestamp()\n",
    "\n",
    "# --- 4. Filter Crane Data to Exclude 2024 Data ---\n",
    "# Filter the dataset to include only data up to 2023\n",
    "\n",
    "\n",
    "\n",
    "print(df_crane.shape)\n"
   ]
  },
  {
   "cell_type": "code",
   "execution_count": 7,
   "id": "80758f32",
   "metadata": {
    "scrolled": false
   },
   "outputs": [
    {
     "name": "stdout",
     "output_type": "stream",
     "text": [
      "(126349, 11)\n",
      "(126349, 11)\n",
      "(126349, 13)\n",
      "                          GLOBAL UNIQUE IDENTIFIER OBSERVATION COUNT  \\\n",
      "0   URN:CornellLabOfOrnithology:EBIRD:OBS893538867                 1   \n",
      "1   URN:CornellLabOfOrnithology:EBIRD:OBS843912433                 1   \n",
      "2  URN:CornellLabOfOrnithology:EBIRD:OBS2143453118                 1   \n",
      "3  URN:CornellLabOfOrnithology:EBIRD:OBS2112747536                 3   \n",
      "4  URN:CornellLabOfOrnithology:EBIRD:OBS2218298031                 X   \n",
      "\n",
      "                COUNTRY   LATITUDE  LONGITUDE OBSERVATION DATE  \\\n",
      "0  United Arab Emirates  25.169707  55.432797       2001-12-15   \n",
      "1                  Oman  25.672686  56.271832       2001-04-19   \n",
      "2          South Africa -26.350960  28.511238       2001-02-11   \n",
      "3          South Africa -26.350960  28.511238       2001-01-20   \n",
      "4          South Africa -26.350960  28.511238       2001-10-26   \n",
      "\n",
      "  TIME OBSERVATIONS STARTED  DURATION MINUTES  AVERAGE MONTH TEMPERATURE  \\\n",
      "0                       NaN               NaN                      23.39   \n",
      "1                       NaN               NaN                      29.33   \n",
      "2                       NaN               NaN                      22.82   \n",
      "3                       NaN               NaN                      23.24   \n",
      "4                  06:30:00             300.0                      19.62   \n",
      "\n",
      "   AVERAGE MONTH RAINFALL  \n",
      "0                    2.60  \n",
      "1                    4.25  \n",
      "2                   58.69  \n",
      "3                   41.10  \n",
      "4                   46.04  \n",
      "(126349, 10)\n"
     ]
    }
   ],
   "source": [
    "\n",
    "# --- 5. Ensure Weather Data has Year-Month Format ---\n",
    "# Convert the 'Year_Month' in the temperature dataset to datetime\n",
    "df_temp['Year_Month'] = pd.to_datetime(df_temp['Year_Month'])\n",
    "\n",
    "# Convert the 'date' in the precipitation dataset to datetime, then extract Year-Month\n",
    "df_rain['date'] = pd.to_datetime(df_rain['date'])\n",
    "df_rain['Year_Month'] = df_rain['date'].dt.to_period('M').dt.to_timestamp()\n",
    "\n",
    "# --- 6. Merge Crane Data with Temperature Data (only Temperature) ---\n",
    "# Merge based on 'COUNTRY' and 'Year_Month', but only include the 'Temperature' column\n",
    "\n",
    "merged_temp = pd.merge(\n",
    "    df_crane, df_temp[['Country_Name', 'Year_Month', 'Temperature']],  # Select relevant columns\n",
    "    how='left',  # Use a left join to keep all crane sightings\n",
    "    left_on=['COUNTRY', 'Year_Month'],  # Match by country and Year-Month\n",
    "    right_on=['Country_Name', 'Year_Month'] # Match by country and Year-Month\n",
    ")\n",
    "print(merged_temp.shape)\n",
    "\n",
    "# Rename the temperature column to 'AVERAGE MONTH TEMPERATURE'\n",
    "merged_temp.rename(columns={'Temperature': 'AVERAGE MONTH TEMPERATURE'}, inplace=True)\n",
    "print(merged_temp.shape)\n",
    "# --- 7. Merge with Precipitation Data (only Precipitation) ---\n",
    "# Merge with the precipitation data on 'COUNTRY' and 'Year_Month', but only include the 'precipitation' column\n",
    "merged = pd.merge(\n",
    "    merged_temp, df_rain[['name', 'Year_Month', 'precipitation']],  # Select relevant columns\n",
    "    how='left',  # Use a left join to keep all crane sightings\n",
    "    left_on=['COUNTRY', 'Year_Month'],  # Merge on the same columns for Year-Month and country\n",
    "    right_on=['name', 'Year_Month']\n",
    ")\n",
    "\n",
    "\n",
    "\n",
    "\n",
    "print(merged.shape)\n",
    "\n",
    "\n",
    "# Rename the precipitation column to 'AVERAGE MONTH RAINFALL'\n",
    "merged.rename(columns={'precipitation': 'AVERAGE MONTH RAINFALL'}, inplace=True)\n",
    "\n",
    "# --- 8. Clean Up the Data ---\n",
    "# Drop the extra country columns from merged datasets (if any)\n",
    "merged.drop(columns=['Country_Name', 'name', 'Year_Month'], inplace=True)\n",
    "\n",
    "# --- 9. Check the Result ---\n",
    "print(merged.head())\n",
    "print(merged.shape)"
   ]
  },
  {
   "cell_type": "code",
   "execution_count": 8,
   "id": "74ecac31",
   "metadata": {},
   "outputs": [],
   "source": [
    "# --- 1. Drop Rows with 'Palestinian Territory' in the Country Column ---\n",
    "merged = merged[merged['COUNTRY'] != 'Palestinian Territory']\n",
    "merged = merged[merged['COUNTRY'] != 'British Indian Ocean Territory']\n",
    "#merged = merged[merged['COUNTRY'] != 'Kosovo']"
   ]
  },
  {
   "cell_type": "code",
   "execution_count": 9,
   "id": "2febd1ea",
   "metadata": {},
   "outputs": [
    {
     "name": "stdout",
     "output_type": "stream",
     "text": [
      "Number of NaN values in 'AVERAGE MONTH TEMPERATURE': 0\n",
      "Number of NaN values in 'AVERAGE MONTH RAINFALL': 0\n"
     ]
    }
   ],
   "source": [
    "# Check for NaN values in the 'AVERAGE MONTH TEMPERATURE' and 'AVERAGE MONTH RAINFALL' columns\n",
    "nan_temperature = merged['AVERAGE MONTH TEMPERATURE'].isna().sum()\n",
    "nan_rainfall = merged['AVERAGE MONTH RAINFALL'].isna().sum()\n",
    "\n",
    "# Print the number of NaN values in each column\n",
    "print(f\"Number of NaN values in 'AVERAGE MONTH TEMPERATURE': {nan_temperature}\")\n",
    "print(f\"Number of NaN values in 'AVERAGE MONTH RAINFALL': {nan_rainfall}\")"
   ]
  },
  {
   "cell_type": "code",
   "execution_count": 10,
   "id": "a4cfbff2",
   "metadata": {
    "scrolled": false
   },
   "outputs": [
    {
     "name": "stdout",
     "output_type": "stream",
     "text": [
      "Rows with NaN in 'AVERAGE MONTH TEMPERATURE':\n",
      "Empty DataFrame\n",
      "Columns: [GLOBAL UNIQUE IDENTIFIER, OBSERVATION COUNT, COUNTRY, LATITUDE, LONGITUDE, OBSERVATION DATE, TIME OBSERVATIONS STARTED, DURATION MINUTES, AVERAGE MONTH TEMPERATURE, AVERAGE MONTH RAINFALL]\n",
      "Index: []\n",
      "\n",
      "Rows with NaN in 'AVERAGE MONTH RAINFALL':\n",
      "Empty DataFrame\n",
      "Columns: [GLOBAL UNIQUE IDENTIFIER, OBSERVATION COUNT, COUNTRY, LATITUDE, LONGITUDE, OBSERVATION DATE, TIME OBSERVATIONS STARTED, DURATION MINUTES, AVERAGE MONTH TEMPERATURE, AVERAGE MONTH RAINFALL]\n",
      "Index: []\n"
     ]
    }
   ],
   "source": [
    "# Filter rows where 'AVERAGE MONTH TEMPERATURE' is NaN\n",
    "nan_temperature_rows = merged[merged['AVERAGE MONTH TEMPERATURE'].isna()]\n",
    "\n",
    "# Filter rows where 'AVERAGE MONTH RAINFALL' is NaN\n",
    "nan_rainfall_rows = merged[merged['AVERAGE MONTH RAINFALL'].isna()]\n",
    "\n",
    "# Print the rows with NaN values in 'AVERAGE MONTH TEMPERATURE'\n",
    "print(\"Rows with NaN in 'AVERAGE MONTH TEMPERATURE':\")\n",
    "print(nan_temperature_rows)\n",
    "\n",
    "# Print the rows with NaN values in 'AVERAGE MONTH RAINFALL'\n",
    "print(\"\\nRows with NaN in 'AVERAGE MONTH RAINFALL':\")\n",
    "print(nan_rainfall_rows)"
   ]
  },
  {
   "cell_type": "code",
   "execution_count": 11,
   "id": "bc634f98",
   "metadata": {},
   "outputs": [],
   "source": [
    "#merged.to_csv('crane_temp_rain_2023.csv', index=False)"
   ]
  },
  {
   "cell_type": "code",
   "execution_count": 12,
   "id": "1fa6e9ae",
   "metadata": {},
   "outputs": [
    {
     "name": "stdout",
     "output_type": "stream",
     "text": [
      "   Unnamed: 0      country   area_ha  tree_cover_2000_ha  tree_cover_2010_ha  \\\n",
      "0           0  Afghanistan  64385715              205791               71797   \n",
      "1           1  Afghanistan  64385715              205791               71797   \n",
      "2           2  Afghanistan  64385715              205791               71797   \n",
      "3           3  Afghanistan  64385715              205791               71797   \n",
      "4           4  Afghanistan  64385715              205791               71797   \n",
      "\n",
      "   gain_2000-2020_ha  year  tree_loss_ha  \n",
      "0              10741  2001            88  \n",
      "1              10741  2002           179  \n",
      "2              10741  2003           244  \n",
      "3              10741  2004           201  \n",
      "4              10741  2005           236  \n",
      "(5428, 8)\n"
     ]
    }
   ],
   "source": [
    "df_tree = pd.read_csv(r'datasets/cleaned_tree_cover.csv')\n",
    "print(df_tree.head())\n",
    "print(df_tree.shape)"
   ]
  },
  {
   "cell_type": "code",
   "execution_count": 13,
   "id": "018d099e",
   "metadata": {},
   "outputs": [
    {
     "name": "stdout",
     "output_type": "stream",
     "text": [
      "                          GLOBAL UNIQUE IDENTIFIER OBSERVATION COUNT  \\\n",
      "0   URN:CornellLabOfOrnithology:EBIRD:OBS893538867                 1   \n",
      "1   URN:CornellLabOfOrnithology:EBIRD:OBS843912433                 1   \n",
      "2  URN:CornellLabOfOrnithology:EBIRD:OBS2143453118                 1   \n",
      "3  URN:CornellLabOfOrnithology:EBIRD:OBS2112747536                 3   \n",
      "4  URN:CornellLabOfOrnithology:EBIRD:OBS2218298031                 X   \n",
      "\n",
      "                COUNTRY   LATITUDE  LONGITUDE OBSERVATION DATE  \\\n",
      "0  United Arab Emirates  25.169707  55.432797       2001-12-15   \n",
      "1                  Oman  25.672686  56.271832       2001-04-19   \n",
      "2          South Africa -26.350960  28.511238       2001-02-11   \n",
      "3          South Africa -26.350960  28.511238       2001-01-20   \n",
      "4          South Africa -26.350960  28.511238       2001-10-26   \n",
      "\n",
      "  TIME OBSERVATIONS STARTED  DURATION MINUTES  AVERAGE MONTH TEMPERATURE  \\\n",
      "0                       NaN               NaN                      23.39   \n",
      "1                       NaN               NaN                      29.33   \n",
      "2                       NaN               NaN                      22.82   \n",
      "3                       NaN               NaN                      23.24   \n",
      "4                  06:30:00             300.0                      19.62   \n",
      "\n",
      "   AVERAGE MONTH RAINFALL  year               country  tree_loss_ha  \\\n",
      "0                    2.60  2001  United Arab Emirates             0   \n",
      "1                    4.25  2001                  Oman             0   \n",
      "2                   58.69  2001          South Africa         77645   \n",
      "3                   41.10  2001          South Africa         77645   \n",
      "4                   46.04  2001          South Africa         77645   \n",
      "\n",
      "   percentage_loss  \n",
      "0         0.000000  \n",
      "1         0.000000  \n",
      "2         0.063659  \n",
      "3         0.063659  \n",
      "4         0.063659  \n",
      "(126347, 14)\n"
     ]
    }
   ],
   "source": [
    "# Extract year from OBSERVATION DATE if it's not already done\n",
    "merged['year'] = pd.to_datetime(merged['OBSERVATION DATE']).dt.year\n",
    "\n",
    "df_tree['country'] = df_tree['country'].replace({\n",
    "    'Svalbard and Jan Mayen': 'Svalbard',\n",
    "    'Swaziland' : 'Eswatini',\n",
    "    'Republic of Congo' : 'Congo',\n",
    "    'Macedonia' : 'North Macedonia',\n",
    "    'Democratic Republic of the Congo' : 'Democratic Republic of Congo'# Handle the special character in 'TÃ¼rkiye'\n",
    "})\n",
    "\n",
    "\n",
    "df_tree['percentage_loss'] = (df_tree['tree_loss_ha'] / df_tree['area_ha']) * 100\n",
    "# Perform the merge with df_tree\n",
    "merged2 = pd.merge(\n",
    "    merged,\n",
    "    df_tree[['year', 'country', 'tree_loss_ha', 'percentage_loss']],  # Select only relevant columns\n",
    "    how='left', \n",
    "    left_on=['year', 'COUNTRY'], \n",
    "    right_on=['year', 'country']\n",
    ")\n",
    "# Keep only rows where the year is 2001 or later\n",
    "#merged2 = merged2[merged2['year'] >= 2001]\n",
    "\n",
    "# Drop the redundant 'country' column from df_tree if necessary\n",
    "#merged2.drop(columns=['country'], inplace=True)\n",
    "\n",
    "\n",
    "\n",
    "\n",
    "\n",
    "\n",
    "print(merged2.head())\n",
    "print(merged2.shape)\n",
    "\n",
    "\n"
   ]
  },
  {
   "cell_type": "code",
   "execution_count": 14,
   "id": "5ddb20fe",
   "metadata": {},
   "outputs": [
    {
     "name": "stdout",
     "output_type": "stream",
     "text": [
      "0\n",
      "Empty DataFrame\n",
      "Columns: [GLOBAL UNIQUE IDENTIFIER, OBSERVATION COUNT, COUNTRY, LATITUDE, LONGITUDE, OBSERVATION DATE, TIME OBSERVATIONS STARTED, DURATION MINUTES, AVERAGE MONTH TEMPERATURE, AVERAGE MONTH RAINFALL, year, country, tree_loss_ha, percentage_loss]\n",
      "Index: []\n"
     ]
    }
   ],
   "source": [
    "nan_tree = merged2['tree_loss_ha'].isna().sum()\n",
    "print(nan_tree)\n",
    "\n",
    "nan_tree_rows = merged2[merged2['tree_loss_ha'].isna()]\n",
    "print(nan_tree_rows)"
   ]
  },
  {
   "cell_type": "code",
   "execution_count": 15,
   "id": "b13b36af",
   "metadata": {},
   "outputs": [
    {
     "name": "stdout",
     "output_type": "stream",
     "text": [
      "   Year      Country  Population\n",
      "0  1975  Afghanistan  12185168.7\n",
      "1  1976  Afghanistan  12251504.3\n",
      "2  1977  Afghanistan  12317839.9\n",
      "3  1978  Afghanistan  12384175.5\n",
      "4  1979  Afghanistan  12450511.1\n",
      "(12250, 3)\n"
     ]
    }
   ],
   "source": [
    "df_pop = pd.read_csv(r'datasets/Processed_PopulationData.csv')\n",
    "print(df_pop.head())\n",
    "print(df_pop.shape)"
   ]
  },
  {
   "cell_type": "code",
   "execution_count": 16,
   "id": "a7eab5b1",
   "metadata": {},
   "outputs": [
    {
     "name": "stdout",
     "output_type": "stream",
     "text": [
      "                          GLOBAL UNIQUE IDENTIFIER OBSERVATION COUNT  \\\n",
      "0   URN:CornellLabOfOrnithology:EBIRD:OBS893538867                 1   \n",
      "1   URN:CornellLabOfOrnithology:EBIRD:OBS843912433                 1   \n",
      "2  URN:CornellLabOfOrnithology:EBIRD:OBS2143453118                 1   \n",
      "3  URN:CornellLabOfOrnithology:EBIRD:OBS2112747536                 3   \n",
      "4  URN:CornellLabOfOrnithology:EBIRD:OBS2218298031                 X   \n",
      "\n",
      "                COUNTRY   LATITUDE  LONGITUDE OBSERVATION DATE  \\\n",
      "0  United Arab Emirates  25.169707  55.432797       2001-12-15   \n",
      "1                  Oman  25.672686  56.271832       2001-04-19   \n",
      "2          South Africa -26.350960  28.511238       2001-02-11   \n",
      "3          South Africa -26.350960  28.511238       2001-01-20   \n",
      "4          South Africa -26.350960  28.511238       2001-10-26   \n",
      "\n",
      "  TIME OBSERVATIONS STARTED  DURATION MINUTES  AVERAGE MONTH TEMPERATURE  \\\n",
      "0                       NaN               NaN                      23.39   \n",
      "1                       NaN               NaN                      29.33   \n",
      "2                       NaN               NaN                      22.82   \n",
      "3                       NaN               NaN                      23.24   \n",
      "4                  06:30:00             300.0                      19.62   \n",
      "\n",
      "   AVERAGE MONTH RAINFALL  year               country  tree_loss_ha  \\\n",
      "0                    2.60  2001  United Arab Emirates             0   \n",
      "1                    4.25  2001                  Oman             0   \n",
      "2                   58.69  2001          South Africa         77645   \n",
      "3                   41.10  2001          South Africa         77645   \n",
      "4                   46.04  2001          South Africa         77645   \n",
      "\n",
      "   percentage_loss    Population  \n",
      "0         0.000000  3.456352e+06  \n",
      "1         0.000000  2.397318e+06  \n",
      "2         0.063659  4.725239e+07  \n",
      "3         0.063659  4.725239e+07  \n",
      "4         0.063659  4.725239e+07  \n"
     ]
    }
   ],
   "source": [
    "merged2['COUNTRY'] = merged2['COUNTRY'].replace({\n",
    "    'Czech Republic': 'Czechia',  # Handle the special character in 'TÃ¼rkiye'\n",
    "})\n",
    "df_pop['Country'] = df_pop['Country'].replace({\n",
    "    'Svalbard and Jan Mayen': 'Svalbard',  # Handle the special character in 'TÃ¼rkiye'\n",
    "})\n",
    "merged3 = pd.merge(\n",
    "    merged2,\n",
    "    df_pop[['Year', 'Country', 'Population']],  # Select only relevant columns\n",
    "    how='left', \n",
    "    left_on=['year', 'COUNTRY'], \n",
    "    right_on=['Year', 'Country']\n",
    ")\n",
    "merged3.drop(columns=['Country', 'Year'], inplace=True)\n",
    "print(merged3.head())"
   ]
  },
  {
   "cell_type": "code",
   "execution_count": 17,
   "id": "06d1ce6e",
   "metadata": {},
   "outputs": [
    {
     "name": "stdout",
     "output_type": "stream",
     "text": [
      "0\n",
      "Empty DataFrame\n",
      "Columns: [GLOBAL UNIQUE IDENTIFIER, OBSERVATION COUNT, COUNTRY, LATITUDE, LONGITUDE, OBSERVATION DATE, TIME OBSERVATIONS STARTED, DURATION MINUTES, AVERAGE MONTH TEMPERATURE, AVERAGE MONTH RAINFALL, year, country, tree_loss_ha, percentage_loss, Population]\n",
      "Index: []\n"
     ]
    }
   ],
   "source": [
    "nan_pop = merged3['Population'].isna().sum()\n",
    "print(nan_pop)\n",
    "\n",
    "nan_pop_rows = merged3[merged3['Population'].isna()]\n",
    "print(nan_pop_rows)"
   ]
  },
  {
   "cell_type": "code",
   "execution_count": 18,
   "id": "7f2f4383",
   "metadata": {},
   "outputs": [
    {
     "name": "stdout",
     "output_type": "stream",
     "text": [
      "Empty DataFrame\n",
      "Columns: [GLOBAL UNIQUE IDENTIFIER, OBSERVATION COUNT, COUNTRY, LATITUDE, LONGITUDE, OBSERVATION DATE, TIME OBSERVATIONS STARTED, DURATION MINUTES, AVERAGE MONTH TEMPERATURE, AVERAGE MONTH RAINFALL, year, country, tree_loss_ha, percentage_loss, Population]\n",
      "Index: []\n"
     ]
    },
    {
     "data": {
      "text/plain": [
       "np.int64(0)"
      ]
     },
     "execution_count": 18,
     "metadata": {},
     "output_type": "execute_result"
    }
   ],
   "source": [
    "merged3.to_csv('flamingo_temp_rain_pop_tree_2001-2020.csv', index=False)\n",
    "#merged3.drop(columns=['country'], inplace=True)\n",
    "duplicates = merged3[merged3.duplicated()]\n",
    "print(duplicates)\n",
    "merged3.duplicated().sum()\n"
   ]
  },
  {
   "cell_type": "code",
   "execution_count": 19,
   "id": "7e6f4941",
   "metadata": {},
   "outputs": [
    {
     "name": "stdout",
     "output_type": "stream",
     "text": [
      "   Unnamed: 0                         GLOBAL UNIQUE IDENTIFIER  \\\n",
      "0           0   URN:CornellLabOfOrnithology:EBIRD:OBS893538867   \n",
      "1           1   URN:CornellLabOfOrnithology:EBIRD:OBS843912433   \n",
      "2           2  URN:CornellLabOfOrnithology:EBIRD:OBS2143453118   \n",
      "3           3  URN:CornellLabOfOrnithology:EBIRD:OBS2112747536   \n",
      "4           4  URN:CornellLabOfOrnithology:EBIRD:OBS2218298031   \n",
      "\n",
      "  OBSERVATION COUNT               COUNTRY   LATITUDE  LONGITUDE  \\\n",
      "0                 1  United Arab Emirates  25.169707  55.432797   \n",
      "1                 1                  Oman  25.672686  56.271832   \n",
      "2                 1          South Africa -26.350960  28.511238   \n",
      "3                 3          South Africa -26.350960  28.511238   \n",
      "4                 X          South Africa -26.350960  28.511238   \n",
      "\n",
      "  OBSERVATION DATE TIME OBSERVATIONS STARTED  DURATION MINUTES  \\\n",
      "0       2001-12-15                       NaN               NaN   \n",
      "1       2001-04-19                       NaN               NaN   \n",
      "2       2001-02-11                       NaN               NaN   \n",
      "3       2001-01-20                       NaN               NaN   \n",
      "4       2001-10-26                  06:30:00             300.0   \n",
      "\n",
      "   WT_COUNT_10KM_RADIUS   NDVI  \n",
      "0                   0.0  0.124  \n",
      "1                   0.0  0.096  \n",
      "2                   0.0  0.268  \n",
      "3                   0.0  0.376  \n",
      "4                   0.0  0.396  \n",
      "(126349, 11)\n"
     ]
    },
    {
     "data": {
      "text/plain": [
       "Unnamed: 0                       0\n",
       "GLOBAL UNIQUE IDENTIFIER         0\n",
       "OBSERVATION COUNT                0\n",
       "COUNTRY                          0\n",
       "LATITUDE                         0\n",
       "LONGITUDE                        0\n",
       "OBSERVATION DATE                 0\n",
       "TIME OBSERVATIONS STARTED    22605\n",
       "DURATION MINUTES             28601\n",
       "WT_COUNT_10KM_RADIUS             0\n",
       "NDVI                          8569\n",
       "dtype: int64"
      ]
     },
     "execution_count": 19,
     "metadata": {},
     "output_type": "execute_result"
    }
   ],
   "source": [
    "df_veg = pd.read_csv(r'datasets/flamingo_ndvi_turbine.csv')\n",
    "print(df_veg.head())\n",
    "print(df_veg.shape)\n",
    "df_veg.isna().sum()"
   ]
  },
  {
   "cell_type": "code",
   "execution_count": 22,
   "id": "3bf639b7",
   "metadata": {},
   "outputs": [
    {
     "name": "stdout",
     "output_type": "stream",
     "text": [
      "                          GLOBAL UNIQUE IDENTIFIER OBSERVATION COUNT  \\\n",
      "0   URN:CornellLabOfOrnithology:EBIRD:OBS893538867                 1   \n",
      "1   URN:CornellLabOfOrnithology:EBIRD:OBS843912433                 1   \n",
      "2  URN:CornellLabOfOrnithology:EBIRD:OBS2143453118                 1   \n",
      "3  URN:CornellLabOfOrnithology:EBIRD:OBS2112747536                 3   \n",
      "4  URN:CornellLabOfOrnithology:EBIRD:OBS2218298031                 X   \n",
      "\n",
      "                COUNTRY   LATITUDE  LONGITUDE OBSERVATION DATE  \\\n",
      "0  United Arab Emirates  25.169707  55.432797       2001-12-15   \n",
      "1                  Oman  25.672686  56.271832       2001-04-19   \n",
      "2          South Africa -26.350960  28.511238       2001-02-11   \n",
      "3          South Africa -26.350960  28.511238       2001-01-20   \n",
      "4          South Africa -26.350960  28.511238       2001-10-26   \n",
      "\n",
      "  TIME OBSERVATIONS STARTED  DURATION MINUTES  AVERAGE MONTH TEMPERATURE  \\\n",
      "0                       NaN               NaN                      23.39   \n",
      "1                       NaN               NaN                      29.33   \n",
      "2                       NaN               NaN                      22.82   \n",
      "3                       NaN               NaN                      23.24   \n",
      "4                  06:30:00             300.0                      19.62   \n",
      "\n",
      "   AVERAGE MONTH RAINFALL  year               country  tree_loss_ha  \\\n",
      "0                    2.60  2001  United Arab Emirates             0   \n",
      "1                    4.25  2001                  Oman             0   \n",
      "2                   58.69  2001          South Africa         77645   \n",
      "3                   41.10  2001          South Africa         77645   \n",
      "4                   46.04  2001          South Africa         77645   \n",
      "\n",
      "   percentage_loss    Population   NDVI  WT_COUNT_10KM_RADIUS  \n",
      "0         0.000000  3.456352e+06  0.124                   0.0  \n",
      "1         0.000000  2.397318e+06  0.096                   0.0  \n",
      "2         0.063659  4.725239e+07  0.268                   0.0  \n",
      "3         0.063659  4.725239e+07  0.376                   0.0  \n",
      "4         0.063659  4.725239e+07  0.396                   0.0  \n",
      "(126347, 17)\n",
      "(126347, 15)\n"
     ]
    }
   ],
   "source": [
    "\n",
    "merged4 = pd.merge(\n",
    "    merged3,\n",
    "    df_veg[[ 'GLOBAL UNIQUE IDENTIFIER', 'NDVI', 'WT_COUNT_10KM_RADIUS']],  # Select only relevant columns\n",
    "    how='left', \n",
    "    left_on=['GLOBAL UNIQUE IDENTIFIER'], \n",
    "    right_on=['GLOBAL UNIQUE IDENTIFIER']\n",
    ")\n",
    "#merged4 = merged4[merged4['OBSERVATION DATE'] <= '2020-06-30']\n",
    "print(merged4.head())\n",
    "print(merged4.shape)\n",
    "merged4.drop(columns=['country', 'year'], inplace=True)\n",
    "print(merged4.shape)"
   ]
  },
  {
   "cell_type": "markdown",
   "id": "8ab72842",
   "metadata": {},
   "source": [
    "\n",
    "df_veg['date'] = pd.to_datetime(df_veg['date'], errors='coerce')\n",
    "print(df_veg.head())\n",
    "\n",
    "merged4 = pd.merge(\n",
    "    merged3,\n",
    "    df_veg[['date', 'latitude', 'longitude', 'NDVI']],  # Select only relevant columns\n",
    "    how='left', \n",
    "    left_on=['OBSERVATION DATE', 'LATITUDE', 'LONGITUDE'], \n",
    "    right_on=['date', 'latitude', 'longitude']\n",
    ")\n",
    "merged4 = merged4[merged4['OBSERVATION DATE'] <= '2020-06-30']\n",
    "\n",
    "print(merged4.head())\n",
    "print(merged4.shape)\n"
   ]
  },
  {
   "cell_type": "code",
   "execution_count": 23,
   "id": "379eeeaa",
   "metadata": {},
   "outputs": [
    {
     "name": "stdout",
     "output_type": "stream",
     "text": [
      "8568\n",
      "                              GLOBAL UNIQUE IDENTIFIER OBSERVATION COUNT  \\\n",
      "20      URN:CornellLabOfOrnithology:EBIRD:OBS102007777               200   \n",
      "57      URN:CornellLabOfOrnithology:EBIRD:OBS771932551                 X   \n",
      "318     URN:CornellLabOfOrnithology:EBIRD:OBS495396789                14   \n",
      "325     URN:CornellLabOfOrnithology:EBIRD:OBS495985624                15   \n",
      "345     URN:CornellLabOfOrnithology:EBIRD:OBS535814466                 X   \n",
      "...                                                ...               ...   \n",
      "126205  URN:CornellLabOfOrnithology:EBIRD:OBS868411651              2000   \n",
      "126223  URN:CornellLabOfOrnithology:EBIRD:OBS944333324                35   \n",
      "126227  URN:CornellLabOfOrnithology:EBIRD:OBS877094646                50   \n",
      "126247  URN:CornellLabOfOrnithology:EBIRD:OBS850453960                12   \n",
      "126261  URN:CornellLabOfOrnithology:EBIRD:OBS859996649                 X   \n",
      "\n",
      "        COUNTRY   LATITUDE  LONGITUDE OBSERVATION DATE  \\\n",
      "20       Turkey  38.461116  31.375580       2001-05-25   \n",
      "57       France  43.400558   4.742446       2001-07-01   \n",
      "318        Oman  16.881603  53.781092       2001-08-21   \n",
      "325        Oman  17.033500  54.435800       2001-08-22   \n",
      "345       Kenya  -0.771080  36.351700       2001-01-19   \n",
      "...         ...        ...        ...              ...   \n",
      "126205  Tunisia  35.986838  10.515246       2020-02-22   \n",
      "126223    Spain  36.811937  -2.429115       2020-05-29   \n",
      "126227   Greece  40.914583  25.376723       2020-03-11   \n",
      "126247   Turkey  40.655278  26.794333       2020-01-12   \n",
      "126261    Spain  36.479123  -6.212271       2020-02-04   \n",
      "\n",
      "       TIME OBSERVATIONS STARTED  DURATION MINUTES  AVERAGE MONTH TEMPERATURE  \\\n",
      "20                      09:00:00             480.0                      14.16   \n",
      "57                      07:00:00             720.0                      19.40   \n",
      "318                     09:00:00             240.0                      32.01   \n",
      "325                     15:00:00              40.0                      32.01   \n",
      "345                          NaN               NaN                      25.44   \n",
      "...                          ...               ...                        ...   \n",
      "126205                  07:27:00              44.0                      13.86   \n",
      "126223                  08:09:00              55.0                      17.52   \n",
      "126227                  15:17:00              90.0                      10.31   \n",
      "126247                  09:00:00              30.0                       0.60   \n",
      "126261                  10:47:00              68.0                       9.62   \n",
      "\n",
      "        AVERAGE MONTH RAINFALL  tree_loss_ha  percentage_loss    Population  \\\n",
      "20                       81.46         22910         0.029345  6.503012e+07   \n",
      "57                      103.32         34421         0.062639  5.904506e+07   \n",
      "318                       4.25             0         0.000000  2.397318e+06   \n",
      "325                       4.25             0         0.000000  2.397318e+06   \n",
      "345                      66.43         19027         0.032470  3.191981e+07   \n",
      "...                        ...           ...              ...           ...   \n",
      "126205                   12.24          1062         0.006858  1.216244e+07   \n",
      "126223                   63.09        101988         0.201540  4.736202e+07   \n",
      "126227                   79.12          5427         0.040935  1.051345e+07   \n",
      "126247                   63.21         45349         0.058087  8.413283e+07   \n",
      "126261                    5.64        101988         0.201540  4.736202e+07   \n",
      "\n",
      "        NDVI  WT_COUNT_10KM_RADIUS  \n",
      "20       NaN                   0.0  \n",
      "57       NaN                  90.0  \n",
      "318      NaN                   0.0  \n",
      "325      NaN                   0.0  \n",
      "345      NaN                   0.0  \n",
      "...      ...                   ...  \n",
      "126205   NaN                   0.0  \n",
      "126223   NaN                   0.0  \n",
      "126227   NaN                   0.0  \n",
      "126247   NaN                   0.0  \n",
      "126261   NaN                   0.0  \n",
      "\n",
      "[8568 rows x 15 columns]\n"
     ]
    }
   ],
   "source": [
    "nan_veg = merged4['NDVI'].isna().sum()\n",
    "print(nan_veg)\n",
    "\n",
    "nan_veg_rows = merged4[merged4['NDVI'].isna()]\n",
    "print(nan_veg_rows)"
   ]
  },
  {
   "cell_type": "code",
   "execution_count": 24,
   "id": "0d94b18d",
   "metadata": {},
   "outputs": [
    {
     "data": {
      "text/plain": [
       "GLOBAL UNIQUE IDENTIFIER         0\n",
       "OBSERVATION COUNT                0\n",
       "COUNTRY                          0\n",
       "LATITUDE                         0\n",
       "LONGITUDE                        0\n",
       "OBSERVATION DATE                 0\n",
       "TIME OBSERVATIONS STARTED    22604\n",
       "DURATION MINUTES             28600\n",
       "AVERAGE MONTH TEMPERATURE        0\n",
       "AVERAGE MONTH RAINFALL           0\n",
       "tree_loss_ha                     0\n",
       "percentage_loss                  0\n",
       "Population                       0\n",
       "NDVI                          8568\n",
       "WT_COUNT_10KM_RADIUS             0\n",
       "dtype: int64"
      ]
     },
     "execution_count": 24,
     "metadata": {},
     "output_type": "execute_result"
    }
   ],
   "source": [
    "merged4.isna().sum()"
   ]
  },
  {
   "cell_type": "code",
   "execution_count": 25,
   "id": "f5fd3441",
   "metadata": {},
   "outputs": [
    {
     "name": "stdout",
     "output_type": "stream",
     "text": [
      "Empty DataFrame\n",
      "Columns: [GLOBAL UNIQUE IDENTIFIER, OBSERVATION COUNT, COUNTRY, LATITUDE, LONGITUDE, OBSERVATION DATE, TIME OBSERVATIONS STARTED, DURATION MINUTES, AVERAGE MONTH TEMPERATURE, AVERAGE MONTH RAINFALL, tree_loss_ha, percentage_loss, Population, NDVI, WT_COUNT_10KM_RADIUS]\n",
      "Index: []\n"
     ]
    },
    {
     "data": {
      "text/plain": [
       "np.int64(0)"
      ]
     },
     "execution_count": 25,
     "metadata": {},
     "output_type": "execute_result"
    }
   ],
   "source": [
    "\n",
    "duplicates = merged4[merged4.duplicated()]\n",
    "print(duplicates)\n",
    "merged4.duplicated().sum()"
   ]
  },
  {
   "cell_type": "code",
   "execution_count": 26,
   "id": "51954f50",
   "metadata": {},
   "outputs": [],
   "source": [
    "merged4.to_csv('flamingo_temp_rain_tree_veg_pop_turb_2001-2020.csv', index=False)"
   ]
  },
  {
   "cell_type": "code",
   "execution_count": null,
   "id": "ed2ff805",
   "metadata": {},
   "outputs": [],
   "source": []
  },
  {
   "cell_type": "code",
   "execution_count": null,
   "id": "602e37fe",
   "metadata": {},
   "outputs": [],
   "source": [
    "merged4[['GLOBAL UNIQUE IDENTIFIER']].nunique()\n"
   ]
  },
  {
   "cell_type": "code",
   "execution_count": null,
   "id": "7887a5f8",
   "metadata": {},
   "outputs": [],
   "source": [
    "num_unique_combinations = merged[['year', 'COUNTRY']].drop_duplicates().shape[0]\n",
    "\n",
    "print(num_unique_combinations)"
   ]
  },
  {
   "cell_type": "markdown",
   "id": "81c6da60",
   "metadata": {},
   "source": [
    "NaN situation for 2001-2020 on NDVI\n",
    "what about including more dates with missing attributes\n",
    "\n",
    "\n",
    "temp and rain up to 2023\n",
    "tree loss 2001-2023\n",
    "ndvi 1999-2020  (missing data)\n",
    "windmill all dates\n"
   ]
  },
  {
   "cell_type": "code",
   "execution_count": null,
   "id": "2b42fe3d",
   "metadata": {},
   "outputs": [],
   "source": []
  }
 ],
 "metadata": {
  "kernelspec": {
   "display_name": "Python 3 (ipykernel)",
   "language": "python",
   "name": "python3"
  },
  "language_info": {
   "codemirror_mode": {
    "name": "ipython",
    "version": 3
   },
   "file_extension": ".py",
   "mimetype": "text/x-python",
   "name": "python",
   "nbconvert_exporter": "python",
   "pygments_lexer": "ipython3",
   "version": "3.9.21"
  }
 },
 "nbformat": 4,
 "nbformat_minor": 5
}
