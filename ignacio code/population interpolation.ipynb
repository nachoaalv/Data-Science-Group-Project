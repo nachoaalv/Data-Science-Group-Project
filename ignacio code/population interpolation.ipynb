{
 "cells": [
  {
   "cell_type": "code",
   "execution_count": 6,
   "id": "8f905a4b",
   "metadata": {},
   "outputs": [
    {
     "name": "stdout",
     "output_type": "stream",
     "text": [
      "<class 'pandas.core.frame.DataFrame'>\n",
      "RangeIndex: 2500 entries, 0 to 2499\n",
      "Data columns (total 3 columns):\n",
      " #   Column      Non-Null Count  Dtype  \n",
      "---  ------      --------------  -----  \n",
      " 0   Country     2500 non-null   object \n",
      " 1   Year        2500 non-null   int64  \n",
      " 2   Population  2500 non-null   float64\n",
      "dtypes: float64(1), int64(1), object(1)\n",
      "memory usage: 58.7+ KB\n",
      "None\n",
      "       Country  Year  Population\n",
      "0  Afghanistan  1975  12185168.7\n",
      "1  Afghanistan  1980  12516846.7\n",
      "2  Afghanistan  1985  10548339.5\n",
      "3  Afghanistan  1990  10733987.7\n",
      "4  Afghanistan  1995  16453396.5\n"
     ]
    },
    {
     "name": "stderr",
     "output_type": "stream",
     "text": [
      "C:\\Users\\nacho\\AppData\\Local\\Temp\\ipykernel_1880\\4032275938.py:21: DeprecationWarning: DataFrameGroupBy.apply operated on the grouping columns. This behavior is deprecated, and in a future version of pandas the grouping columns will be excluded from the operation. Either pass `include_groups=False` to exclude the groupings or explicitly select the grouping columns after groupby to silence this warning.\n",
      "  df_pop = df_pop.groupby('Country', group_keys=False).apply(fill_missing_years)\n"
     ]
    },
    {
     "name": "stdout",
     "output_type": "stream",
     "text": [
      "<class 'pandas.core.frame.DataFrame'>\n",
      "Index: 12250 entries, 0 to 48\n",
      "Data columns (total 3 columns):\n",
      " #   Column      Non-Null Count  Dtype  \n",
      "---  ------      --------------  -----  \n",
      " 0   Year        12250 non-null  int64  \n",
      " 1   Country     12250 non-null  object \n",
      " 2   Population  12250 non-null  float64\n",
      "dtypes: float64(1), int64(1), object(1)\n",
      "memory usage: 382.8+ KB\n",
      "None\n",
      "   Year      Country  Population\n",
      "0  1975  Afghanistan  12185168.7\n",
      "1  1976  Afghanistan  12251504.3\n",
      "2  1977  Afghanistan  12317839.9\n",
      "3  1978  Afghanistan  12384175.5\n",
      "4  1979  Afghanistan  12450511.1\n"
     ]
    },
    {
     "name": "stderr",
     "output_type": "stream",
     "text": [
      "C:\\Users\\nacho\\AppData\\Local\\Temp\\ipykernel_1880\\4032275938.py:40: DeprecationWarning: DataFrameGroupBy.apply operated on the grouping columns. This behavior is deprecated, and in a future version of pandas the grouping columns will be excluded from the operation. Either pass `include_groups=False` to exclude the groupings or explicitly select the grouping columns after groupby to silence this warning.\n",
      "  df_pop = df_pop.groupby('Country', group_keys=False).apply(extrapolate_population)\n"
     ]
    }
   ],
   "source": [
    "import pandas as pd\n",
    "import numpy as np\n",
    "from sklearn.linear_model import LinearRegression\n",
    "\n",
    "# Load dataset\n",
    "df_pop = pd.read_csv(\"datasets/PopulationData.csv\")\n",
    "print(df_pop.info())\n",
    "print(df_pop.head())\n",
    "# Convert 'Year' to numeric and sort values\n",
    "df_pop['Year'] = pd.to_numeric(df_pop['Year'], errors='coerce')\n",
    "df_pop = df_pop.sort_values(by=['Country', 'Year']).reset_index(drop=True)\n",
    "\n",
    "# Step 1: Create a complete year range for each country\n",
    "all_years = range(df_pop['Year'].min(), 2024)  # Up to 2023\n",
    "\n",
    "def fill_missing_years(group):\n",
    "    country_name = group['Country'].iloc[0]\n",
    "    full_range = pd.DataFrame({'Year': all_years, 'Country': country_name})\n",
    "    return pd.merge(full_range, group, on=['Year', 'Country'], how='left')\n",
    "\n",
    "df_pop = df_pop.groupby('Country', group_keys=False).apply(fill_missing_years)\n",
    "\n",
    "# Step 2: Interpolate missing population values\n",
    "df_pop['Population'] = df_pop.groupby('Country')['Population'].transform(lambda x: x.interpolate())\n",
    "\n",
    "# Step 3: Extrapolate population for the last few years (if needed)\n",
    "def extrapolate_population(group):\n",
    "    X = group.dropna()['Year'].values.reshape(-1, 1)\n",
    "    y = group.dropna()['Population'].values\n",
    "\n",
    "    model = LinearRegression()\n",
    "    model.fit(X, y)\n",
    "\n",
    "    missing_years = group[group['Population'].isna()]['Year'].values.reshape(-1, 1)\n",
    "    if len(missing_years) > 0:\n",
    "        group.loc[group['Population'].isna(), 'Population'] = model.predict(missing_years)\n",
    "\n",
    "    return group\n",
    "\n",
    "df_pop = df_pop.groupby('Country', group_keys=False).apply(extrapolate_population)\n",
    "\n",
    "# Save the updated dataset\n",
    "df_pop.to_csv(\"Processed_PopulationData.csv\", index=False)\n",
    "\n",
    "print(df_pop.info())\n",
    "print(df_pop.head())# Verify the final results\n"
   ]
  },
  {
   "cell_type": "code",
   "execution_count": null,
   "id": "690cbcf1",
   "metadata": {},
   "outputs": [],
   "source": []
  }
 ],
 "metadata": {
  "kernelspec": {
   "display_name": "Python 3 (ipykernel)",
   "language": "python",
   "name": "python3"
  },
  "language_info": {
   "codemirror_mode": {
    "name": "ipython",
    "version": 3
   },
   "file_extension": ".py",
   "mimetype": "text/x-python",
   "name": "python",
   "nbconvert_exporter": "python",
   "pygments_lexer": "ipython3",
   "version": "3.9.21"
  }
 },
 "nbformat": 4,
 "nbformat_minor": 5
}
