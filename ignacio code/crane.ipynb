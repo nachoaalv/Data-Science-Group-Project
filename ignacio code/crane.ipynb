{
 "cells": [
  {
   "cell_type": "code",
   "execution_count": 1,
   "id": "a3c21478",
   "metadata": {},
   "outputs": [
    {
     "name": "stdout",
     "output_type": "stream",
     "text": [
      "Requirement already satisfied: folium in c:\\users\\nacho\\anaconda3\\lib\\site-packages (0.19.4)\n",
      "Requirement already satisfied: xyzservices in c:\\users\\nacho\\anaconda3\\lib\\site-packages (from folium) (2025.1.0)\n",
      "Requirement already satisfied: numpy in c:\\users\\nacho\\anaconda3\\lib\\site-packages (from folium) (1.21.5)\n",
      "Requirement already satisfied: branca>=0.6.0 in c:\\users\\nacho\\anaconda3\\lib\\site-packages (from folium) (0.8.1)\n",
      "Requirement already satisfied: jinja2>=2.9 in c:\\users\\nacho\\anaconda3\\lib\\site-packages (from folium) (3.1.5)\n",
      "Requirement already satisfied: requests in c:\\users\\nacho\\anaconda3\\lib\\site-packages (from folium) (2.28.1)\n",
      "Requirement already satisfied: MarkupSafe>=2.0 in c:\\users\\nacho\\anaconda3\\lib\\site-packages (from jinja2>=2.9->folium) (2.0.1)\n",
      "Requirement already satisfied: charset-normalizer<3,>=2 in c:\\users\\nacho\\anaconda3\\lib\\site-packages (from requests->folium) (2.0.4)\n",
      "Requirement already satisfied: idna<4,>=2.5 in c:\\users\\nacho\\anaconda3\\lib\\site-packages (from requests->folium) (3.3)\n",
      "Requirement already satisfied: urllib3<1.27,>=1.21.1 in c:\\users\\nacho\\anaconda3\\lib\\site-packages (from requests->folium) (1.26.11)\n",
      "Requirement already satisfied: certifi>=2017.4.17 in c:\\users\\nacho\\anaconda3\\lib\\site-packages (from requests->folium) (2022.9.14)\n"
     ]
    }
   ],
   "source": [
    "!pip install folium"
   ]
  },
  {
   "cell_type": "code",
   "execution_count": 3,
   "id": "af597115",
   "metadata": {},
   "outputs": [
    {
     "name": "stdout",
     "output_type": "stream",
     "text": [
      "Requirement already satisfied: numpy==1.21.5 in c:\\users\\nacho\\anaconda3\\lib\\site-packages (1.21.5)\n"
     ]
    }
   ],
   "source": [
    "!pip install numpy==1.21.5"
   ]
  },
  {
   "cell_type": "code",
   "execution_count": 4,
   "id": "45d18126",
   "metadata": {},
   "outputs": [
    {
     "name": "stdout",
     "output_type": "stream",
     "text": [
      "Requirement already satisfied: pandas in c:\\users\\nacho\\anaconda3\\lib\\site-packages (1.4.4)\n",
      "Requirement already satisfied: numpy>=1.18.5 in c:\\users\\nacho\\anaconda3\\lib\\site-packages (from pandas) (1.21.5)\n",
      "Requirement already satisfied: pytz>=2020.1 in c:\\users\\nacho\\anaconda3\\lib\\site-packages (from pandas) (2022.1)\n",
      "Requirement already satisfied: python-dateutil>=2.8.1 in c:\\users\\nacho\\anaconda3\\lib\\site-packages (from pandas) (2.8.2)\n",
      "Requirement already satisfied: six>=1.5 in c:\\users\\nacho\\anaconda3\\lib\\site-packages (from python-dateutil>=2.8.1->pandas) (1.16.0)\n"
     ]
    }
   ],
   "source": [
    "!pip install pandas"
   ]
  },
  {
   "cell_type": "code",
   "execution_count": 5,
   "id": "b6e80af2",
   "metadata": {},
   "outputs": [
    {
     "name": "stdout",
     "output_type": "stream",
     "text": [
      "Requirement already satisfied: shapely in c:\\users\\nacho\\anaconda3\\lib\\site-packages (2.0.7)\n",
      "Requirement already satisfied: numpy<3,>=1.14 in c:\\users\\nacho\\anaconda3\\lib\\site-packages (from shapely) (1.21.5)\n"
     ]
    }
   ],
   "source": [
    "!pip install shapely"
   ]
  },
  {
   "cell_type": "code",
   "execution_count": 6,
   "id": "7455d2af",
   "metadata": {},
   "outputs": [
    {
     "name": "stdout",
     "output_type": "stream",
     "text": [
      "Requirement already satisfied: folium in c:\\users\\nacho\\anaconda3\\lib\\site-packages (0.19.4)\n",
      "Requirement already satisfied: xyzservices in c:\\users\\nacho\\anaconda3\\lib\\site-packages (from folium) (2025.1.0)\n",
      "Requirement already satisfied: requests in c:\\users\\nacho\\anaconda3\\lib\\site-packages (from folium) (2.28.1)\n",
      "Requirement already satisfied: jinja2>=2.9 in c:\\users\\nacho\\anaconda3\\lib\\site-packages (from folium) (3.1.5)\n",
      "Requirement already satisfied: numpy in c:\\users\\nacho\\anaconda3\\lib\\site-packages (from folium) (1.21.5)\n",
      "Requirement already satisfied: branca>=0.6.0 in c:\\users\\nacho\\anaconda3\\lib\\site-packages (from folium) (0.8.1)\n",
      "Requirement already satisfied: MarkupSafe>=2.0 in c:\\users\\nacho\\anaconda3\\lib\\site-packages (from jinja2>=2.9->folium) (2.0.1)\n",
      "Requirement already satisfied: charset-normalizer<3,>=2 in c:\\users\\nacho\\anaconda3\\lib\\site-packages (from requests->folium) (2.0.4)\n",
      "Requirement already satisfied: urllib3<1.27,>=1.21.1 in c:\\users\\nacho\\anaconda3\\lib\\site-packages (from requests->folium) (1.26.11)\n",
      "Requirement already satisfied: idna<4,>=2.5 in c:\\users\\nacho\\anaconda3\\lib\\site-packages (from requests->folium) (3.3)\n",
      "Requirement already satisfied: certifi>=2017.4.17 in c:\\users\\nacho\\anaconda3\\lib\\site-packages (from requests->folium) (2022.9.14)\n"
     ]
    }
   ],
   "source": [
    "!pip install folium"
   ]
  },
  {
   "cell_type": "code",
   "execution_count": 11,
   "id": "2d6b8bbd",
   "metadata": {},
   "outputs": [],
   "source": [
    "import pandas as pd \n",
    "import numpy as np \n",
    "import matplotlib.pyplot as plt\n",
    "import seaborn as sns \n",
    "import folium\n",
    "\n",
    "# Load the CSV file\n",
    "# Data file should be in the same directory as the code\n",
    "file_path = r\"common crane data.csv\"\n",
    "df = pd.read_csv(file_path)"
   ]
  },
  {
   "cell_type": "code",
   "execution_count": 12,
   "id": "7e8c3aac",
   "metadata": {},
   "outputs": [
    {
     "name": "stdout",
     "output_type": "stream",
     "text": [
      "                          GLOBAL UNIQUE IDENTIFIER   COMMON NAME  \\\n",
      "0   URN:CornellLabOfOrnithology:EBIRD:OBS533741645  Common Crane   \n",
      "1   URN:CornellLabOfOrnithology:EBIRD:OBS776499119  Common Crane   \n",
      "2  URN:CornellLabOfOrnithology:EBIRD:OBS1919716399  Common Crane   \n",
      "3  URN:CornellLabOfOrnithology:EBIRD:OBS1565666077  Common Crane   \n",
      "4  URN:CornellLabOfOrnithology:EBIRD:OBS1044855853  Common Crane   \n",
      "\n",
      "          COUNTRY   LATITUDE  LONGITUDE OBSERVATION DATE  \\\n",
      "0  United Kingdom  52.744315   1.624603       08/10/1993   \n",
      "1         Finland  59.809343  22.893696       15/04/1984   \n",
      "2         Finland  61.481060  23.823474       20/04/1972   \n",
      "3          Sweden  57.278110  14.000840       27/05/1991   \n",
      "4          Sweden  57.295939  13.944397       20/07/1995   \n",
      "\n",
      "  TIME OBSERVATIONS STARTED  DURATION MINUTES  \n",
      "0                       NaN               NaN  \n",
      "1                       NaN               NaN  \n",
      "2                  14:20:00               NaN  \n",
      "3                       NaN               NaN  \n",
      "4                  10:30:00             450.0  \n",
      "(269458, 8)\n"
     ]
    }
   ],
   "source": [
    "# Display the first few rows of the DataFrame\n",
    "print(df.head())\n",
    "print(df.shape)"
   ]
  },
  {
   "cell_type": "code",
   "execution_count": 13,
   "id": "e63c39a9",
   "metadata": {},
   "outputs": [
    {
     "name": "stdout",
     "output_type": "stream",
     "text": [
      "1903.0        1\n",
      "1905.0        1\n",
      "1909.0        1\n",
      "1912.0        1\n",
      "1931.0        1\n",
      "1954.0        1\n",
      "1957.0        1\n",
      "1958.0        7\n",
      "1959.0        2\n",
      "1960.0        3\n",
      "1961.0        3\n",
      "1962.0        3\n",
      "1963.0        2\n",
      "1964.0        7\n",
      "1965.0        5\n",
      "1966.0        8\n",
      "1967.0       10\n",
      "1968.0       21\n",
      "1969.0       14\n",
      "1970.0       19\n",
      "1971.0       29\n",
      "1972.0       37\n",
      "1973.0       25\n",
      "1974.0       35\n",
      "1975.0       35\n",
      "1976.0       47\n",
      "1977.0       49\n",
      "1978.0       48\n",
      "1979.0      116\n",
      "1980.0      107\n",
      "1981.0      118\n",
      "1982.0      140\n",
      "1983.0      153\n",
      "1984.0      184\n",
      "1985.0      183\n",
      "1986.0      197\n",
      "1987.0      211\n",
      "1988.0      308\n",
      "1989.0      264\n",
      "1990.0      311\n",
      "1991.0      311\n",
      "1992.0      278\n",
      "1993.0      289\n",
      "1994.0      335\n",
      "1995.0      442\n",
      "1996.0      396\n",
      "1997.0      413\n",
      "1998.0      475\n",
      "1999.0      648\n",
      "2000.0      719\n",
      "2001.0      584\n",
      "2002.0      550\n",
      "2003.0      654\n",
      "2004.0      797\n",
      "2005.0      816\n",
      "2006.0     1012\n",
      "2007.0     1086\n",
      "2008.0     1205\n",
      "2009.0     1223\n",
      "2010.0     1455\n",
      "2011.0     1956\n",
      "2012.0     2165\n",
      "2013.0     2852\n",
      "2014.0     3653\n",
      "2015.0     4196\n",
      "2016.0     6756\n",
      "2017.0    10457\n",
      "2018.0    13383\n",
      "2019.0    17907\n",
      "2020.0    22409\n",
      "2021.0    28942\n",
      "2022.0    36721\n",
      "2023.0    45681\n",
      "2024.0    55978\n",
      "Name: YEAR, dtype: int64\n"
     ]
    }
   ],
   "source": [
    "# Convert 'OBSERVATION DATE' to datetime format\n",
    "df['OBSERVATION DATE'] = pd.to_datetime(df['OBSERVATION DATE'], dayfirst=True, errors='coerce')\n",
    "\n",
    "# Extract the year\n",
    "df['YEAR'] = df['OBSERVATION DATE'].dt.year\n",
    "\n",
    "# Count occurrences per year\n",
    "yearly_counts = df['YEAR'].value_counts().sort_index()\n",
    "# Ensure all rows are displayed\n",
    "pd.set_option('display.max_rows', None)\n",
    "\n",
    "# Print the full count of entries per year\n",
    "print(yearly_counts)"
   ]
  },
  {
   "cell_type": "code",
   "execution_count": 14,
   "id": "3e7aa82c",
   "metadata": {},
   "outputs": [
    {
     "name": "stdout",
     "output_type": "stream",
     "text": [
      "Map for 1990 saved as crane_sightings_1990.html\n",
      "Map for 2020 saved as crane_sightings_2020.html\n"
     ]
    }
   ],
   "source": [
    "# Extract the year\n",
    "df[\"YEAR\"] = df[\"OBSERVATION DATE\"].dt.year\n",
    "\n",
    "# Function to create and save a map for a given year\n",
    "def create_map(year):\n",
    "    df_year = df[(df[\"YEAR\"] == year) & df[\"LATITUDE\"].notna() & df[\"LONGITUDE\"].notna()]\n",
    "    \n",
    "    if df_year.empty:\n",
    "        print(f\"No data available for {year}\")\n",
    "        return\n",
    "    \n",
    "    # Initialize the map at the mean location of sightings\n",
    "    map_center = [df_year[\"LATITUDE\"].mean(), df_year[\"LONGITUDE\"].mean()]\n",
    "    m = folium.Map(location=map_center, zoom_start=4)\n",
    "\n",
    "    # Add markers\n",
    "    for _, row in df_year.iterrows():\n",
    "        folium.CircleMarker(\n",
    "            location=[row[\"LATITUDE\"], row[\"LONGITUDE\"]],\n",
    "            radius=3, color=\"red\", fill=True, fill_color=\"red\", fill_opacity=0.5\n",
    "        ).add_to(m)\n",
    "\n",
    "    # Save map\n",
    "    file_name = f\"crane_sightings_{year}.html\"\n",
    "    m.save(file_name)\n",
    "    print(f\"Map for {year} saved as {file_name}\")\n",
    "\n",
    "# Generate maps for 1990 and 2020\n",
    "create_map(1990)\n",
    "create_map(2020)\n"
   ]
  },
  {
   "cell_type": "code",
   "execution_count": 16,
   "id": "ba828e1e",
   "metadata": {},
   "outputs": [
    {
     "data": {
      "text/html": [
       "\n",
       "        <iframe\n",
       "            width=\"800\"\n",
       "            height=\"600\"\n",
       "            src=\"crane_sightings_1990.html\"\n",
       "            frameborder=\"0\"\n",
       "            allowfullscreen\n",
       "            \n",
       "        ></iframe>\n",
       "        "
      ],
      "text/plain": [
       "<IPython.lib.display.IFrame at 0x1f0426743d0>"
      ]
     },
     "execution_count": 16,
     "metadata": {},
     "output_type": "execute_result"
    }
   ],
   "source": [
    "from IPython.display import IFrame\n",
    "\n",
    "# Display the map for the year 1990\n",
    "IFrame(\"crane_sightings_1990.html\", width=800, height=600)\n"
   ]
  },
  {
   "cell_type": "code",
   "execution_count": 17,
   "id": "41b257ab",
   "metadata": {},
   "outputs": [
    {
     "data": {
      "text/html": [
       "\n",
       "        <iframe\n",
       "            width=\"800\"\n",
       "            height=\"600\"\n",
       "            src=\"crane_sightings_2020.html\"\n",
       "            frameborder=\"0\"\n",
       "            allowfullscreen\n",
       "            \n",
       "        ></iframe>\n",
       "        "
      ],
      "text/plain": [
       "<IPython.lib.display.IFrame at 0x1f072078a00>"
      ]
     },
     "execution_count": 17,
     "metadata": {},
     "output_type": "execute_result"
    }
   ],
   "source": [
    "\n",
    "# Display the map for the year 2020\n",
    "IFrame(\"crane_sightings_2020.html\", width=800, height=600)"
   ]
  },
  {
   "cell_type": "code",
   "execution_count": 18,
   "id": "ebcbef5b",
   "metadata": {},
   "outputs": [],
   "source": [
    "\n",
    "# Extract month from 'OBSERVATION DATE'\n",
    "df[\"MONTH\"] = df[\"OBSERVATION DATE\"].dt.month\n",
    "\n",
    "# Filter for months November (11) to February (2)\n",
    "nov_feb_data = df[df[\"MONTH\"].isin([11, 12, 1, 2])]\n",
    "\n",
    "# Filter for months May (5) to August (8)\n",
    "may_aug_data = df[df[\"MONTH\"].isin([5, 6, 7, 8])]\n",
    "\n",
    "# Initialize the map for November to February data\n",
    "map_center = [nov_feb_data[\"LATITUDE\"].mean(), nov_feb_data[\"LONGITUDE\"].mean()]\n",
    "m_nov_feb = folium.Map(location=map_center, zoom_start=4)\n",
    "\n",
    "# Add markers for November to February data\n",
    "for _, row in nov_feb_data.iterrows():\n",
    "    folium.CircleMarker(\n",
    "        location=[row[\"LATITUDE\"], row[\"LONGITUDE\"]],\n",
    "        radius=3, \n",
    "        color=\"blue\", \n",
    "        fill=True, \n",
    "        fill_color=\"blue\", \n",
    "        fill_opacity=0.6\n",
    "    ).add_to(m_nov_feb)\n",
    "\n",
    "# Save the November to February map\n",
    "m_nov_feb.save(\"crane_sightings_nov_feb.html\")\n",
    "\n",
    "# Initialize the map for May to August data\n",
    "map_center = [may_aug_data[\"LATITUDE\"].mean(), may_aug_data[\"LONGITUDE\"].mean()]\n",
    "m_may_aug = folium.Map(location=map_center, zoom_start=4)\n",
    "\n",
    "# Add markers for May to August data\n",
    "for _, row in may_aug_data.iterrows():\n",
    "    folium.CircleMarker(\n",
    "        location=[row[\"LATITUDE\"], row[\"LONGITUDE\"]],\n",
    "        radius=3, \n",
    "        color=\"green\", \n",
    "        fill=True, \n",
    "        fill_color=\"green\", \n",
    "        fill_opacity=0.6\n",
    "    ).add_to(m_may_aug)\n",
    "\n",
    "# Save the May to August map\n",
    "m_may_aug.save(\"crane_sightings_may_aug.html\")\n"
   ]
  },
  {
   "cell_type": "code",
   "execution_count": 19,
   "id": "19250c53",
   "metadata": {},
   "outputs": [
    {
     "data": {
      "text/html": [
       "\n",
       "        <iframe\n",
       "            width=\"800\"\n",
       "            height=\"600\"\n",
       "            src=\"crane_sightings_nov_feb.html\"\n",
       "            frameborder=\"0\"\n",
       "            allowfullscreen\n",
       "            \n",
       "        ></iframe>\n",
       "        "
      ],
      "text/plain": [
       "<IPython.lib.display.IFrame at 0x1f067878a60>"
      ]
     },
     "execution_count": 19,
     "metadata": {},
     "output_type": "execute_result"
    }
   ],
   "source": [
    "IFrame(\"crane_sightings_nov_feb.html\", width=800, height=600)"
   ]
  },
  {
   "cell_type": "code",
   "execution_count": 20,
   "id": "30428723",
   "metadata": {},
   "outputs": [
    {
     "data": {
      "text/html": [
       "\n",
       "        <iframe\n",
       "            width=\"800\"\n",
       "            height=\"600\"\n",
       "            src=\"crane_sightings_may_aug.html\"\n",
       "            frameborder=\"0\"\n",
       "            allowfullscreen\n",
       "            \n",
       "        ></iframe>\n",
       "        "
      ],
      "text/plain": [
       "<IPython.lib.display.IFrame at 0x1f0678782e0>"
      ]
     },
     "execution_count": 20,
     "metadata": {},
     "output_type": "execute_result"
    }
   ],
   "source": [
    "IFrame(\"crane_sightings_may_aug.html\", width=800, height=600)"
   ]
  },
  {
   "cell_type": "code",
   "execution_count": null,
   "id": "a0cdf21e",
   "metadata": {},
   "outputs": [],
   "source": []
  }
 ],
 "metadata": {
  "kernelspec": {
   "display_name": "Python 3 (ipykernel)",
   "language": "python",
   "name": "python3"
  },
  "language_info": {
   "codemirror_mode": {
    "name": "ipython",
    "version": 3
   },
   "file_extension": ".py",
   "mimetype": "text/x-python",
   "name": "python",
   "nbconvert_exporter": "python",
   "pygments_lexer": "ipython3",
   "version": "3.9.21"
  }
 },
 "nbformat": 4,
 "nbformat_minor": 5
}
