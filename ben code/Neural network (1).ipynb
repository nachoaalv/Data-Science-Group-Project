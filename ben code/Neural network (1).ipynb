{
 "cells": [
  {
   "cell_type": "code",
   "execution_count": null,
   "metadata": {
    "cell_id": "ba5714a6b0fb4778a49d47e2fadf223e",
    "deepnote_cell_type": "code",
    "execution_context_id": "259a3a10-ee8a-475a-b21a-3e26144d0796",
    "execution_millis": 424015,
    "execution_start": 1743081909473,
    "source_hash": "89204709"
   },
   "outputs": [],
   "source": [
    "import pandas as pd\n",
    "import numpy as np\n",
    "from sklearn.preprocessing import RobustScaler\n",
    "from sklearn.model_selection import train_test_split\n",
    "import tensorflow as tf\n",
    "from tensorflow.keras.models import Sequential\n",
    "from tensorflow.keras.layers import Dense, Dropout, BatchNormalization\n",
    "from tensorflow.keras.callbacks import EarlyStopping, ReduceLROnPlateau\n",
    "from tensorflow.keras.optimizers import Adam\n",
    "from sklearn.metrics import mean_squared_error, r2_score\n",
    "import matplotlib.pyplot as plt\n",
    "\n",
    "# Read data\n",
    "df = pd.read_csv('bird_final.csv')"
   ]
  },
  {
   "cell_type": "code",
   "execution_count": null,
   "metadata": {},
   "outputs": [],
   "source": [
    "df"
   ]
  },
  {
   "cell_type": "code",
   "execution_count": null,
   "metadata": {
    "cell_id": "ba5714a6b0fb4778a49d47e2fadf223e",
    "deepnote_cell_type": "code",
    "execution_context_id": "259a3a10-ee8a-475a-b21a-3e26144d0796",
    "execution_millis": 424015,
    "execution_start": 1743081909473,
    "source_hash": "89204709"
   },
   "outputs": [],
   "source": [
    "original_df = df.copy()\n",
    "\n",
    "# Features\n",
    "df['MONTH_SIN'] = np.sin(2 * np.pi * df['month']/12)\n",
    "df['MONTH_COS'] = np.cos(2 * np.pi * df['month']/12)\n",
    "quarter_dummies = pd.get_dummies(pd.cut(df['month'], bins=[0,3,6,9,12], labels=['Q1','Q2','Q3','Q4']), prefix='QUARTER')\n",
    "df = pd.concat([df, quarter_dummies], axis=1)\n",
    "\n",
    "\n",
    "lat_dummies = pd.get_dummies(pd.qcut(df['LATITUDE'], q=5, labels=['Very South', 'South', 'Mid', 'North', 'Very North']), prefix='LAT')\n",
    "lon_dummies = pd.get_dummies(pd.qcut(df['LONGITUDE'], q=5, labels=['Far West', 'West', 'Mid', 'East', 'Far East']), prefix='LON')\n",
    "df = pd.concat([df, lat_dummies, lon_dummies], axis=1)\n",
    "\n",
    "\n",
    "df['TEMP_RAIN_INTERACTION'] = df['AVERAGE MONTH TEMPERATURE'] * df['AVERAGE MONTH RAINFALL']\n",
    "df['NDVI_TEMP_INTERACTION'] = df['NDVI'] * df['AVERAGE MONTH TEMPERATURE']\n",
    "df['NDVI_RAIN_INTERACTION'] = df['NDVI'] * df['AVERAGE MONTH RAINFALL']\n",
    "\n",
    "\n",
    "df['POPULATION_LOG'] = np.log1p(df['Population'])\n",
    "df['POPULATION_DENSITY_LOG'] = np.log1p(df['Population Density'])\n",
    "pop_density_dummies = pd.get_dummies(pd.qcut(df['Population Density'], q=5, labels=['Very Low', 'Low', 'Medium', 'High', 'Very High']), prefix='POP_DENSITY')\n",
    "df = pd.concat([df, pop_density_dummies], axis=1)"
   ]
  },
  {
   "cell_type": "code",
   "execution_count": null,
   "metadata": {},
   "outputs": [],
   "source": [
    "df"
   ]
  },
  {
   "cell_type": "code",
   "execution_count": null,
   "metadata": {
    "cell_id": "ba5714a6b0fb4778a49d47e2fadf223e",
    "deepnote_cell_type": "code",
    "execution_context_id": "259a3a10-ee8a-475a-b21a-3e26144d0796",
    "execution_millis": 424015,
    "execution_start": 1743081909473,
    "source_hash": "89204709"
   },
   "outputs": [],
   "source": [
    "df['DISTANCE_FROM_EQUATOR'] = abs(df['LATITUDE'])\n",
    "df['COASTAL_PROXIMITY'] = abs(df['LONGITUDE']) % 90\n",
    "\n",
    "\n",
    "df['NDVI_SQUARED'] = df['NDVI'] ** 2\n",
    "df['TEMP_SQUARED'] = df['AVERAGE MONTH TEMPERATURE'] ** 2\n",
    "df['RAINFALL_SQUARED'] = df['AVERAGE MONTH RAINFALL'] ** 2\n",
    "df['AREA_FACTOR'] = df['LATITUDE'].abs() * df['LONGITUDE'].abs()\n",
    "df['GEO_TEMP_INTERACTION'] = df['AREA_FACTOR'] * df['AVERAGE MONTH TEMPERATURE']"
   ]
  },
  {
   "cell_type": "code",
   "execution_count": null,
   "metadata": {},
   "outputs": [],
   "source": [
    "df"
   ]
  },
  {
   "cell_type": "code",
   "execution_count": null,
   "metadata": {
    "cell_id": "ba5714a6b0fb4778a49d47e2fadf223e",
    "deepnote_cell_type": "code",
    "execution_context_id": "259a3a10-ee8a-475a-b21a-3e26144d0796",
    "execution_millis": 424015,
    "execution_start": 1743081909473,
    "source_hash": "89204709"
   },
   "outputs": [],
   "source": [
    "# Select original numeric columns and engineered features\n",
    "numeric_features = ['LATITUDE', 'LONGITUDE', 'AVERAGE MONTH TEMPERATURE', \n",
    "                   'AVERAGE MONTH RAINFALL', 'tree_loss_ha', 'percentage_loss',\n",
    "                   'Population', 'NDVI', 'Population Density', 'month', 'WT_COUNT_10KM_RADIUS',\n",
    "                   'MONTH_SIN', 'MONTH_COS', 'TEMP_RAIN_INTERACTION', 'NDVI_TEMP_INTERACTION',\n",
    "                   'NDVI_RAIN_INTERACTION', 'POPULATION_LOG', 'POPULATION_DENSITY_LOG',\n",
    "                   'DISTANCE_FROM_EQUATOR', 'COASTAL_PROXIMITY', 'NDVI_SQUARED',\n",
    "                   'TEMP_SQUARED', 'RAINFALL_SQUARED', 'AREA_FACTOR', 'GEO_TEMP_INTERACTION']\n",
    "\n",
    "#Get columns\n",
    "binary_columns = [col for col in df.columns if col.startswith(('QUARTER_', 'LAT_', 'LON_', 'POP_DENSITY_'))]\n",
    "\n",
    "# Combine features\n",
    "all_features = numeric_features + binary_columns\n",
    "\n",
    "# Prepare X and y\n",
    "X = df[all_features]\n",
    "y = df['OBSERVATION COUNT']\n",
    "\n",
    "#Split the data\n",
    "X_train, X_test, y_train, y_test = train_test_split(X, y, test_size=0.2, random_state=42)\n",
    "\n",
    "# Scale features\n",
    "scaler_X = RobustScaler()\n",
    "X_train_scaled = scaler_X.fit_transform(X_train)\n",
    "X_test_scaled = scaler_X.transform(X_test)\n",
    "\n",
    "#Scale target (using log transformation for better handling of large values)\n",
    "y_train_log = np.log1p(y_train)\n",
    "y_test_log = np.log1p(y_test)\n",
    "\n",
    "# Build improved neural network\n",
    "model = Sequential([\n",
    "    Dense(256, activation='relu', input_shape=(X_train.shape[1],)),\n",
    "    BatchNormalization(),\n",
    "    Dropout(0.4),\n",
    "    \n",
    "    Dense(128, activation='relu'),\n",
    "    BatchNormalization(),\n",
    "    Dropout(0.3),\n",
    "    \n",
    "    Dense(64, activation='relu'),\n",
    "    BatchNormalization(),\n",
    "    Dropout(0.2),\n",
    "    \n",
    "    Dense(32, activation='relu'),\n",
    "    BatchNormalization(),\n",
    "    Dropout(0.1),\n",
    "    \n",
    "    Dense(16, activation='relu'),\n",
    "    BatchNormalization(),\n",
    "    \n",
    "    Dense(1)\n",
    "])\n",
    "\n",
    "# Compile model with learning rate schedule\n",
    "initial_learning_rate = 0.001\n",
    "decay_steps = 1000\n",
    "decay_rate = 0.9\n",
    "\n",
    "lr_schedule = tf.keras.optimizers.schedules.ExponentialDecay(\n",
    "    initial_learning_rate,\n",
    "    decay_steps=decay_steps,\n",
    "    decay_rate=decay_rate,\n",
    "    staircase=True\n",
    ")\n",
    "\n",
    "optimizer = Adam(learning_rate=lr_schedule)\n",
    "model.compile(optimizer=optimizer, loss='mse')\n",
    "\n",
    "# Add callbacks\n",
    "early_stopping = EarlyStopping(\n",
    "    monitor='val_loss',\n",
    "    patience=20,\n",
    "    restore_best_weights=True\n",
    ")\n",
    "\n",
    "reduce_lr = ReduceLROnPlateau(\n",
    "    monitor='val_loss',\n",
    "    factor=0.2,\n",
    "    patience=5,\n",
    "    min_lr=1e-6\n",
    ")\n",
    "\n",
    "# Train model\n",
    "history = model.fit(\n",
    "    X_train_scaled, y_train_log,\n",
    "    epochs=100,\n",
    "    batch_size=32,\n",
    "    validation_split=0.2,\n",
    "    callbacks=[early_stopping, reduce_lr],\n",
    "    verbose=1\n",
    ")"
   ]
  },
  {
   "cell_type": "code",
   "execution_count": null,
   "metadata": {
    "cell_id": "ba5714a6b0fb4778a49d47e2fadf223e",
    "deepnote_cell_type": "code",
    "execution_context_id": "259a3a10-ee8a-475a-b21a-3e26144d0796",
    "execution_millis": 424015,
    "execution_start": 1743081909473,
    "source_hash": "89204709"
   },
   "outputs": [],
   "source": [
    "#Make predictions\n",
    "y_pred_log = model.predict(X_test_scaled)\n",
    "y_pred = np.expm1(y_pred_log)\n",
    "\n",
    "# Calculate metrics\n",
    "mse = mean_squared_error(y_test, y_pred)\n",
    "rmse = np.sqrt(mse)\n",
    "r2 = r2_score(y_test, y_pred)"
   ]
  },
  {
   "cell_type": "code",
   "execution_count": null,
   "metadata": {
    "cell_id": "ba5714a6b0fb4778a49d47e2fadf223e",
    "deepnote_cell_type": "code",
    "execution_context_id": "259a3a10-ee8a-475a-b21a-3e26144d0796",
    "execution_millis": 424015,
    "execution_start": 1743081909473,
    "source_hash": "89204709"
   },
   "outputs": [],
   "source": [
    "print(f\"\\nModel Performance:\")\n",
    "print(f\"R-squared Score: {r2:.4f}\")\n",
    "print(f\"Root Mean Squared Error: {rmse:.2f}\")\n",
    "\n",
    "#Plot training history\n",
    "plt.figure(figsize=(10, 6))\n",
    "plt.plot(history.history['loss'], label='Training Loss')\n",
    "plt.plot(history.history['val_loss'], label='Validation Loss')\n",
    "plt.title('Model Training History')\n",
    "plt.xlabel('Epoch')\n",
    "plt.ylabel('Loss')\n",
    "plt.legend()\n",
    "plt.grid(True)\n",
    "plt.show()\n",
    "\n",
    "#Plot actual vs predicted values\n",
    "plt.figure(figsize=(10, 6))\n",
    "plt.scatter(y_test, y_pred, alpha=0.5)\n",
    "plt.plot([y_test.min(), y_test.max()], [y_test.min(), y_test.max()], 'r--', lw=2)\n",
    "plt.xlabel('Actual Values')\n",
    "plt.ylabel('Predicted Values')\n",
    "plt.title('Actual vs Predicted Values (Neural Network)')\n",
    "plt.tight_layout()\n",
    "plt.show()"
   ]
  }
 ],
 "metadata": {
  "deepnote_notebook_id": "8e716fe7ae5544fc8d47775bd2a50d53",
  "deepnote_persisted_session": {
   "createdAt": "2025-03-27T13:53:19.729Z"
  },
  "kernelspec": {
   "display_name": "Python 3 (ipykernel)",
   "language": "python",
   "name": "python3"
  },
  "language_info": {
   "codemirror_mode": {
    "name": "ipython",
    "version": 3
   },
   "file_extension": ".py",
   "mimetype": "text/x-python",
   "name": "python",
   "nbconvert_exporter": "python",
   "pygments_lexer": "ipython3",
   "version": "3.12.4"
  }
 },
 "nbformat": 4,
 "nbformat_minor": 4
}
