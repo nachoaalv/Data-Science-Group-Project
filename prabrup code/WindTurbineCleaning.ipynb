{
 "cells": [
  {
   "cell_type": "code",
   "execution_count": 25,
   "metadata": {},
   "outputs": [
    {
     "data": {
      "text/html": [
       "<div>\n",
       "<style scoped>\n",
       "    .dataframe tbody tr th:only-of-type {\n",
       "        vertical-align: middle;\n",
       "    }\n",
       "\n",
       "    .dataframe tbody tr th {\n",
       "        vertical-align: top;\n",
       "    }\n",
       "\n",
       "    .dataframe thead th {\n",
       "        text-align: right;\n",
       "    }\n",
       "</style>\n",
       "<table border=\"1\" class=\"dataframe\">\n",
       "  <thead>\n",
       "    <tr style=\"text-align: right;\">\n",
       "      <th></th>\n",
       "      <th>Date Last Researched</th>\n",
       "      <th>Country/Area</th>\n",
       "      <th>Capacity (MW)</th>\n",
       "      <th>Installation Type</th>\n",
       "      <th>Status</th>\n",
       "      <th>Start year</th>\n",
       "      <th>Retired year</th>\n",
       "      <th>Latitude</th>\n",
       "      <th>Longitude</th>\n",
       "      <th>Location accuracy</th>\n",
       "    </tr>\n",
       "  </thead>\n",
       "  <tbody>\n",
       "    <tr>\n",
       "      <th>0</th>\n",
       "      <td>2023/07/03</td>\n",
       "      <td>Algeria</td>\n",
       "      <td>10.0</td>\n",
       "      <td>Onshore</td>\n",
       "      <td>operating</td>\n",
       "      <td>2014.0</td>\n",
       "      <td>NaN</td>\n",
       "      <td>28.4624</td>\n",
       "      <td>-0.0576</td>\n",
       "      <td>exact</td>\n",
       "    </tr>\n",
       "    <tr>\n",
       "      <th>1</th>\n",
       "      <td>2023/07/03</td>\n",
       "      <td>Algeria</td>\n",
       "      <td>20.0</td>\n",
       "      <td>Onshore</td>\n",
       "      <td>cancelled - inferred 4 y</td>\n",
       "      <td>NaN</td>\n",
       "      <td>NaN</td>\n",
       "      <td>35.1689</td>\n",
       "      <td>7.1055</td>\n",
       "      <td>approximate</td>\n",
       "    </tr>\n",
       "    <tr>\n",
       "      <th>2</th>\n",
       "      <td>2023/07/03</td>\n",
       "      <td>Algeria</td>\n",
       "      <td>50.0</td>\n",
       "      <td>Unknown</td>\n",
       "      <td>cancelled - inferred 4 y</td>\n",
       "      <td>NaN</td>\n",
       "      <td>NaN</td>\n",
       "      <td>29.2356</td>\n",
       "      <td>0.4569</td>\n",
       "      <td>approximate</td>\n",
       "    </tr>\n",
       "    <tr>\n",
       "      <th>3</th>\n",
       "      <td>2023/07/06</td>\n",
       "      <td>Egypt</td>\n",
       "      <td>1100.0</td>\n",
       "      <td>Onshore</td>\n",
       "      <td>construction</td>\n",
       "      <td>2026.0</td>\n",
       "      <td>NaN</td>\n",
       "      <td>26.2540</td>\n",
       "      <td>29.2675</td>\n",
       "      <td>approximate</td>\n",
       "    </tr>\n",
       "    <tr>\n",
       "      <th>4</th>\n",
       "      <td>2023/07/06</td>\n",
       "      <td>Egypt</td>\n",
       "      <td>10000.0</td>\n",
       "      <td>Unknown</td>\n",
       "      <td>announced</td>\n",
       "      <td>NaN</td>\n",
       "      <td>NaN</td>\n",
       "      <td>26.5583</td>\n",
       "      <td>31.6773</td>\n",
       "      <td>approximate</td>\n",
       "    </tr>\n",
       "  </tbody>\n",
       "</table>\n",
       "</div>"
      ],
      "text/plain": [
       "  Date Last Researched Country/Area  Capacity (MW) Installation Type  \\\n",
       "0           2023/07/03      Algeria           10.0           Onshore   \n",
       "1           2023/07/03      Algeria           20.0           Onshore   \n",
       "2           2023/07/03      Algeria           50.0           Unknown   \n",
       "3           2023/07/06        Egypt         1100.0           Onshore   \n",
       "4           2023/07/06        Egypt        10000.0           Unknown   \n",
       "\n",
       "                     Status  Start year  Retired year  Latitude  Longitude  \\\n",
       "0                 operating      2014.0           NaN   28.4624    -0.0576   \n",
       "1  cancelled - inferred 4 y         NaN           NaN   35.1689     7.1055   \n",
       "2  cancelled - inferred 4 y         NaN           NaN   29.2356     0.4569   \n",
       "3              construction      2026.0           NaN   26.2540    29.2675   \n",
       "4                 announced         NaN           NaN   26.5583    31.6773   \n",
       "\n",
       "  Location accuracy  \n",
       "0             exact  \n",
       "1       approximate  \n",
       "2       approximate  \n",
       "3       approximate  \n",
       "4       approximate  "
      ]
     },
     "metadata": {},
     "output_type": "display_data"
    },
    {
     "data": {
      "text/plain": [
       "Index(['Date Last Researched', 'Country/Area', 'Capacity (MW)',\n",
       "       'Installation Type', 'Status', 'Start year', 'Retired year', 'Latitude',\n",
       "       'Longitude', 'Location accuracy'],\n",
       "      dtype='object')"
      ]
     },
     "metadata": {},
     "output_type": "display_data"
    }
   ],
   "source": [
    "import pandas as pd\n",
    "from IPython.display import display\n",
    "turbinedata = pd.read_excel(r\"C:\\Users\\prabr\\Desktop\\GroupProjectWork\\WindTurbines\\Global-Wind-Power-Tracker-June-2024.xlsx\",sheet_name=\"Data\")\n",
    "turbinedata = turbinedata[[\"Date Last Researched\",\"Country/Area\",\"Capacity (MW)\",\"Installation Type\",\n",
    "\"Status\",\"Start year\",\"Retired year\",\"Latitude\",\"Longitude\",\"Location accuracy\"]]\n",
    "\n",
    "display(turbinedata.head())\n",
    "display(turbinedata.columns)"
   ]
  },
  {
   "cell_type": "markdown",
   "metadata": {},
   "source": [
    "We can remove Installation Type as that will be clear from Latitude and Longitutde\n",
    "\n",
    "\n",
    "Date Last Researched can be omitted\n",
    "\n",
    "Country/Area wont be needed due to Latitude and Longitude coordinates\n",
    "\n",
    "Status is required to differentiate standing structures and non standing structures\n",
    "\n",
    "Capacity is needed to determine size of the turbine/classification\n",
    "\n",
    "Retired year not important as we are not interested in turbines that are not standing"
   ]
  },
  {
   "cell_type": "code",
   "execution_count": 26,
   "metadata": {},
   "outputs": [
    {
     "data": {
      "text/plain": [
       "array(['exact', 'approximate'], dtype=object)"
      ]
     },
     "execution_count": 26,
     "metadata": {},
     "output_type": "execute_result"
    }
   ],
   "source": [
    "turbinedata[\"Location accuracy\"].unique()"
   ]
  },
  {
   "cell_type": "markdown",
   "metadata": {},
   "source": [
    "Location accuracy is either exact or approximate, both are good enough for the general whereabouts for global wind turbine positions and so \"Location accuracy\" can be omitted"
   ]
  },
  {
   "cell_type": "code",
   "execution_count": 27,
   "metadata": {},
   "outputs": [
    {
     "data": {
      "text/plain": [
       "array(['operating', 'cancelled - inferred 4 y', 'construction',\n",
       "       'announced', 'pre-construction', 'shelved',\n",
       "       'shelved - inferred 2 y', 'cancelled', 'retired', 'mothballed'],\n",
       "      dtype=object)"
      ]
     },
     "execution_count": 27,
     "metadata": {},
     "output_type": "execute_result"
    }
   ],
   "source": [
    "turbinedata[\"Status\"].unique()"
   ]
  },
  {
   "cell_type": "markdown",
   "metadata": {},
   "source": [
    "Not interested in cancelled, retired or shelved as theyre not operating nor will ever exist and so have little to no ability of killing birds\n",
    "\n",
    "Mothballed will stay in as despite them not being used, have not been dismantled and so have potential to kill birds\n",
    "\n",
    "Operating, construction and announced have potential to kill birds and can provide future forecasting of wind turbine placements\n",
    " "
   ]
  },
  {
   "cell_type": "code",
   "execution_count": 28,
   "metadata": {},
   "outputs": [],
   "source": [
    "turbinedata = turbinedata[turbinedata[\"Status\"].isin([\"operating\",\"construction\",\"announced\",])]\n",
    "turbinedata = turbinedata[[\"Capacity (MW)\",\"Status\",\"Start year\",\"Latitude\",\"Longitude\"]]\n",
    "turbinedata.columns = pd.Index([\"Capacity (MW)\",\"Status\",\"Start Year\",\"Latitude\",\"Longitude\"])\n"
   ]
  },
  {
   "cell_type": "code",
   "execution_count": 29,
   "metadata": {},
   "outputs": [
    {
     "data": {
      "text/plain": [
       "Capacity (MW)       0\n",
       "Status              0\n",
       "Start Year       3407\n",
       "Latitude            0\n",
       "Longitude           0\n",
       "dtype: int64"
      ]
     },
     "metadata": {},
     "output_type": "display_data"
    },
    {
     "name": "stdout",
     "output_type": "stream",
     "text": [
      "Percentage of unknown build dates =  17.0 %\n"
     ]
    }
   ],
   "source": [
    "display(turbinedata.isna().sum(axis=0))\n",
    "\n",
    "print(\"Percentage of unknown build dates = \",100*round(turbinedata[\"Start Year\"].isna().sum()/turbinedata[\"Start Year\"].size,2),\"%\")"
   ]
  },
  {
   "cell_type": "markdown",
   "metadata": {},
   "source": [
    "There are gaps in the dataset where the year to build is unknown. These are real turbines however the date is unknown.\n",
    "\n",
    "The start year will be important for later analysis, however for now, position is more important. Important to make it known about these start year gaps, however for now, they can substituted for -1 for now"
   ]
  },
  {
   "cell_type": "code",
   "execution_count": 30,
   "metadata": {},
   "outputs": [],
   "source": [
    "turbinedata = turbinedata.fillna(-1)"
   ]
  },
  {
   "cell_type": "markdown",
   "metadata": {},
   "source": [
    "Now need to check for any outliers. The wind turbine layout wont follow any specific trend and can reasonably be placed  very far apart along with large discrepeancy in time period between building them (due to only recent developements in green activism). \n",
    "\n",
    "We can do a simple check for outliers but will consider case by case basis as they may fall outside of these ranges for very reasonable reasons"
   ]
  },
  {
   "cell_type": "code",
   "execution_count": 31,
   "metadata": {},
   "outputs": [
    {
     "data": {
      "text/plain": [
       "'Upper threshold for outliers'"
      ]
     },
     "metadata": {},
     "output_type": "display_data"
    },
    {
     "data": {
      "text/plain": [
       "Start Year    0\n",
       "Latitude      0\n",
       "Longitude     0\n",
       "dtype: int64"
      ]
     },
     "metadata": {},
     "output_type": "display_data"
    },
    {
     "data": {
      "text/plain": [
       "'Lower threshold for outliers'"
      ]
     },
     "metadata": {},
     "output_type": "display_data"
    },
    {
     "data": {
      "text/plain": [
       "Start Year      0\n",
       "Latitude      536\n",
       "Longitude       0\n",
       "dtype: int64"
      ]
     },
     "metadata": {},
     "output_type": "display_data"
    }
   ],
   "source": [
    "upper_o = turbinedata[[\"Start Year\",\"Latitude\",\"Longitude\"]].mean()+3*turbinedata[[\"Start Year\",\"Latitude\",\"Longitude\"]].std()\n",
    "lower_o = turbinedata[[\"Start Year\",\"Latitude\",\"Longitude\"]].mean()-3*turbinedata[[\"Start Year\",\"Latitude\",\"Longitude\"]].std()\n",
    "\n",
    "\n",
    "display(\"Upper threshold for outliers\",(turbinedata[[\"Start Year\",\"Latitude\",\"Longitude\"]]>=upper_o).sum())\n",
    "display(\"Lower threshold for outliers\",(turbinedata[[\"Start Year\",\"Latitude\",\"Longitude\"]]<=lower_o).sum())"
   ]
  },
  {
   "cell_type": "code",
   "execution_count": 32,
   "metadata": {},
   "outputs": [
    {
     "data": {
      "text/html": [
       "<div>\n",
       "<style scoped>\n",
       "    .dataframe tbody tr th:only-of-type {\n",
       "        vertical-align: middle;\n",
       "    }\n",
       "\n",
       "    .dataframe tbody tr th {\n",
       "        vertical-align: top;\n",
       "    }\n",
       "\n",
       "    .dataframe thead th {\n",
       "        text-align: right;\n",
       "    }\n",
       "</style>\n",
       "<table border=\"1\" class=\"dataframe\">\n",
       "  <thead>\n",
       "    <tr style=\"text-align: right;\">\n",
       "      <th></th>\n",
       "      <th>Capacity (MW)</th>\n",
       "      <th>Status</th>\n",
       "      <th>Start Year</th>\n",
       "      <th>Latitude</th>\n",
       "      <th>Longitude</th>\n",
       "    </tr>\n",
       "  </thead>\n",
       "  <tbody>\n",
       "  </tbody>\n",
       "</table>\n",
       "</div>"
      ],
      "text/plain": [
       "Empty DataFrame\n",
       "Columns: [Capacity (MW), Status, Start Year, Latitude, Longitude]\n",
       "Index: []"
      ]
     },
     "execution_count": 32,
     "metadata": {},
     "output_type": "execute_result"
    }
   ],
   "source": [
    "turbinedata[turbinedata[\"Start Year\"]>=upper_o[\"Start Year\"]]"
   ]
  },
  {
   "cell_type": "markdown",
   "metadata": {},
   "source": [
    "No visible issues with values that exceed the upper threshold. It makes sense to have outliers in years due to the fact that we have only recentley started implementing wind turbines, plus financing and planning permmission is a lengthy process.\n",
    "The positions can also span quite alot with a lot of land not having wind turbines i.e. europe to america to china is large land that wont necessarily have a lot of wind turbines"
   ]
  },
  {
   "cell_type": "markdown",
   "metadata": {},
   "source": [
    "Can change the names of the \"Status\" to make it better looking"
   ]
  },
  {
   "cell_type": "code",
   "execution_count": 33,
   "metadata": {},
   "outputs": [],
   "source": [
    "turbinedata=turbinedata.replace(\"operating\",\"Operating\").replace(\"announced\",\"Accounced\").replace(\"construction\",\"Construction\")"
   ]
  },
  {
   "cell_type": "code",
   "execution_count": 34,
   "metadata": {},
   "outputs": [
    {
     "data": {
      "text/html": [
       "<div>\n",
       "<style scoped>\n",
       "    .dataframe tbody tr th:only-of-type {\n",
       "        vertical-align: middle;\n",
       "    }\n",
       "\n",
       "    .dataframe tbody tr th {\n",
       "        vertical-align: top;\n",
       "    }\n",
       "\n",
       "    .dataframe thead th {\n",
       "        text-align: right;\n",
       "    }\n",
       "</style>\n",
       "<table border=\"1\" class=\"dataframe\">\n",
       "  <thead>\n",
       "    <tr style=\"text-align: right;\">\n",
       "      <th></th>\n",
       "      <th>Capacity (MW)</th>\n",
       "      <th>Status</th>\n",
       "      <th>Start Year</th>\n",
       "      <th>Latitude</th>\n",
       "      <th>Longitude</th>\n",
       "    </tr>\n",
       "  </thead>\n",
       "  <tbody>\n",
       "    <tr>\n",
       "      <th>0</th>\n",
       "      <td>10.0</td>\n",
       "      <td>Operating</td>\n",
       "      <td>2014.0</td>\n",
       "      <td>28.4624</td>\n",
       "      <td>-0.0576</td>\n",
       "    </tr>\n",
       "    <tr>\n",
       "      <th>3</th>\n",
       "      <td>1100.0</td>\n",
       "      <td>Construction</td>\n",
       "      <td>2026.0</td>\n",
       "      <td>26.2540</td>\n",
       "      <td>29.2675</td>\n",
       "    </tr>\n",
       "    <tr>\n",
       "      <th>4</th>\n",
       "      <td>10000.0</td>\n",
       "      <td>Accounced</td>\n",
       "      <td>-1.0</td>\n",
       "      <td>26.5583</td>\n",
       "      <td>31.6773</td>\n",
       "    </tr>\n",
       "    <tr>\n",
       "      <th>5</th>\n",
       "      <td>160.0</td>\n",
       "      <td>Construction</td>\n",
       "      <td>-1.0</td>\n",
       "      <td>29.6607</td>\n",
       "      <td>32.3314</td>\n",
       "    </tr>\n",
       "    <tr>\n",
       "      <th>6</th>\n",
       "      <td>502.0</td>\n",
       "      <td>Construction</td>\n",
       "      <td>2025.0</td>\n",
       "      <td>28.1338</td>\n",
       "      <td>33.2602</td>\n",
       "    </tr>\n",
       "  </tbody>\n",
       "</table>\n",
       "</div>"
      ],
      "text/plain": [
       "   Capacity (MW)        Status  Start Year  Latitude  Longitude\n",
       "0           10.0     Operating      2014.0   28.4624    -0.0576\n",
       "3         1100.0  Construction      2026.0   26.2540    29.2675\n",
       "4        10000.0     Accounced        -1.0   26.5583    31.6773\n",
       "5          160.0  Construction        -1.0   29.6607    32.3314\n",
       "6          502.0  Construction      2025.0   28.1338    33.2602"
      ]
     },
     "execution_count": 34,
     "metadata": {},
     "output_type": "execute_result"
    }
   ],
   "source": [
    "turbinedata.head()"
   ]
  },
  {
   "cell_type": "markdown",
   "metadata": {},
   "source": [
    "Export data"
   ]
  },
  {
   "cell_type": "code",
   "execution_count": 35,
   "metadata": {},
   "outputs": [],
   "source": [
    "turbinedata.to_csv(r\"C:\\Users\\prabr\\Desktop\\GroupProjectWork\\CleanedData\\WindTurbineData.csv\",index=False)"
   ]
  }
 ],
 "metadata": {
  "kernelspec": {
   "display_name": "Python 3",
   "language": "python",
   "name": "python3"
  },
  "language_info": {
   "codemirror_mode": {
    "name": "ipython",
    "version": 3
   },
   "file_extension": ".py",
   "mimetype": "text/x-python",
   "name": "python",
   "nbconvert_exporter": "python",
   "pygments_lexer": "ipython3",
   "version": "3.9.4"
  }
 },
 "nbformat": 4,
 "nbformat_minor": 2
}
