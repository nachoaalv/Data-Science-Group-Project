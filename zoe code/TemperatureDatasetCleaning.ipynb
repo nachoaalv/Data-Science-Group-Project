{
 "cells": [
  {
   "cell_type": "code",
   "execution_count": 3,
   "metadata": {},
   "outputs": [],
   "source": [
    "import numpy as np\n",
    "import pandas as pd"
   ]
  },
  {
   "attachments": {},
   "cell_type": "markdown",
   "metadata": {},
   "source": [
    "## Read File"
   ]
  },
  {
   "cell_type": "code",
   "execution_count": 4,
   "metadata": {},
   "outputs": [
    {
     "name": "stdout",
     "output_type": "stream",
     "text": [
      "  code             name  1901-01  1901-02  1901-03  1901-04  1901-05  1901-06  \\\n",
      "0  ABW    Aruba (Neth.)    27.20    27.10    27.60    28.60    29.20    28.70   \n",
      "1  AFG      Afghanistan    -0.82     2.15     8.73    13.55    17.94    21.73   \n",
      "2  AGO           Angola    22.50    22.65    22.69    21.48    20.19    18.43   \n",
      "3  AIA  Anguilla (U.K.)    26.10    26.40    26.30    27.20    27.60    28.00   \n",
      "4  ALA          Finland    -4.15    -7.16    -3.21     2.68     8.31    12.82   \n",
      "\n",
      "   1901-07  1901-08  ...  2023-03  2023-04  2023-05  2023-06  2023-07  \\\n",
      "0    29.10    29.70  ...    27.70    28.40    30.00    30.70    30.40   \n",
      "1    24.86    23.18  ...    11.43    15.13    19.09    24.73    26.31   \n",
      "2    18.00    19.90  ...    22.73    22.38    21.06    18.77    18.01   \n",
      "3    28.00    28.50  ...    26.50    27.10    28.30    29.80    29.90   \n",
      "4    19.11    17.11  ...    -1.17     4.30     8.72    14.99    15.47   \n",
      "\n",
      "   2023-08  2023-09  2023-10  2023-11  2023-12  \n",
      "0    31.10    31.80    30.40    29.00    28.20  \n",
      "1    25.00    20.17    15.49    10.23     4.79  \n",
      "2    19.90    22.05    23.01    22.64    22.46  \n",
      "3    30.20    30.10    29.70    28.70    27.10  \n",
      "4    15.91    14.78     6.50     1.80    -1.28  \n",
      "\n",
      "[5 rows x 1478 columns]\n"
     ]
    }
   ],
   "source": [
    "df = pd.read_csv('temperature.csv', encoding=\"utf-8\")\n",
    "print(df.head())"
   ]
  },
  {
   "attachments": {},
   "cell_type": "markdown",
   "metadata": {},
   "source": [
    "## Rename Headings"
   ]
  },
  {
   "cell_type": "code",
   "execution_count": 5,
   "metadata": {},
   "outputs": [
    {
     "name": "stdout",
     "output_type": "stream",
     "text": [
      "  Country_Code     Country_Name  1901-01  1901-02  1901-03  1901-04  1901-05  \\\n",
      "0          ABW    Aruba (Neth.)    27.20    27.10    27.60    28.60    29.20   \n",
      "1          AFG      Afghanistan    -0.82     2.15     8.73    13.55    17.94   \n",
      "2          AGO           Angola    22.50    22.65    22.69    21.48    20.19   \n",
      "3          AIA  Anguilla (U.K.)    26.10    26.40    26.30    27.20    27.60   \n",
      "4          ALA          Finland    -4.15    -7.16    -3.21     2.68     8.31   \n",
      "\n",
      "   1901-06  1901-07  1901-08  ...  2023-03  2023-04  2023-05  2023-06  \\\n",
      "0    28.70    29.10    29.70  ...    27.70    28.40    30.00    30.70   \n",
      "1    21.73    24.86    23.18  ...    11.43    15.13    19.09    24.73   \n",
      "2    18.43    18.00    19.90  ...    22.73    22.38    21.06    18.77   \n",
      "3    28.00    28.00    28.50  ...    26.50    27.10    28.30    29.80   \n",
      "4    12.82    19.11    17.11  ...    -1.17     4.30     8.72    14.99   \n",
      "\n",
      "   2023-07  2023-08  2023-09  2023-10  2023-11  2023-12  \n",
      "0    30.40    31.10    31.80    30.40    29.00    28.20  \n",
      "1    26.31    25.00    20.17    15.49    10.23     4.79  \n",
      "2    18.01    19.90    22.05    23.01    22.64    22.46  \n",
      "3    29.90    30.20    30.10    29.70    28.70    27.10  \n",
      "4    15.47    15.91    14.78     6.50     1.80    -1.28  \n",
      "\n",
      "[5 rows x 1478 columns]\n"
     ]
    }
   ],
   "source": [
    "df = df.rename(columns={\"code\": \"Country_Code\", \"name\": \"Country_Name\"})\n",
    "print(df.head())"
   ]
  },
  {
   "attachments": {},
   "cell_type": "markdown",
   "metadata": {},
   "source": [
    "## Checking for Duplicate Rows"
   ]
  },
  {
   "cell_type": "code",
   "execution_count": 6,
   "metadata": {},
   "outputs": [
    {
     "name": "stdout",
     "output_type": "stream",
     "text": [
      "Total duplicate rows: 0\n"
     ]
    }
   ],
   "source": [
    "duplicates = df.duplicated().sum()\n",
    "print(f\"Total duplicate rows: {duplicates}\")"
   ]
  },
  {
   "cell_type": "code",
   "execution_count": 7,
   "metadata": {},
   "outputs": [
    {
     "name": "stdout",
     "output_type": "stream",
     "text": [
      "Unique country codes: 246\n",
      "Country_Name\n",
      "France              6\n",
      "Finland             2\n",
      "China               2\n",
      "Aruba (Neth.)       1\n",
      "Oman                1\n",
      "                   ..\n",
      "Grenada             1\n",
      "Greenland (Den.)    1\n",
      "Guatemala           1\n",
      "Guam (U.S.)         1\n",
      "Zimbabwe            1\n",
      "Name: count, Length: 239, dtype: int64\n"
     ]
    }
   ],
   "source": [
    "unique_codes = df[\"Country_Code\"].unique()\n",
    "print(f\"Unique country codes: {len(unique_codes)}\")\n",
    "\n",
    "print(df[\"Country_Name\"].value_counts())"
   ]
  },
  {
   "attachments": {},
   "cell_type": "markdown",
   "metadata": {},
   "source": [
    "Some Country_Codes are duplicates. This is due to the teritories that the countries own.\n",
    "\n",
    "France: FRA, GLP, GUF, MTQ, MYT, REU\n",
    "\n",
    "Finland: ALA, FIN\n",
    "\n",
    "China: TWN, CHN"
   ]
  },
  {
   "attachments": {},
   "cell_type": "markdown",
   "metadata": {},
   "source": [
    "## Converting Duplicate Country Names"
   ]
  },
  {
   "attachments": {},
   "cell_type": "markdown",
   "metadata": {},
   "source": [
    "To avoid confustion when comparing locations."
   ]
  },
  {
   "cell_type": "code",
   "execution_count": 8,
   "metadata": {},
   "outputs": [],
   "source": [
    "df.loc[df['Country_Code'] == 'TWN', 'Country_Name'] = 'Taiwan'\n",
    "df.loc[df['Country_Code'] == 'ALA', 'Country_Name'] = 'Åland Islands'\n",
    "df.loc[df['Country_Code'] == 'GLP', 'Country_Name'] = 'Guadeloupe'\n",
    "df.loc[df['Country_Code'] == 'GUF', 'Country_Name'] = 'French Guiana'\n",
    "df.loc[df['Country_Code'] == 'MTQ', 'Country_Name'] = 'Martinique'\n",
    "df.loc[df['Country_Code'] == 'MYT', 'Country_Name'] = 'Mayotte'\n",
    "df.loc[df['Country_Code'] == 'REU', 'Country_Name'] = 'Réunion'"
   ]
  },
  {
   "cell_type": "code",
   "execution_count": 9,
   "metadata": {},
   "outputs": [
    {
     "name": "stdout",
     "output_type": "stream",
     "text": [
      "    Country_Code Country_Name  1901-01  1901-02  1901-03  1901-04  1901-05  \\\n",
      "225          TWN       Taiwan    15.84    10.59    14.63    19.27    20.94   \n",
      "\n",
      "     1901-06  1901-07  1901-08  ...  2023-03  2023-04  2023-05  2023-06  \\\n",
      "225    22.65    23.94    23.04  ...    17.64    20.41    22.45    24.51   \n",
      "\n",
      "     2023-07  2023-08  2023-09  2023-10  2023-11  2023-12  \n",
      "225    25.74     25.2    24.69     22.6     19.7     16.8  \n",
      "\n",
      "[1 rows x 1478 columns]\n",
      "  Country_Code   Country_Name  1901-01  1901-02  1901-03  1901-04  1901-05  \\\n",
      "4          ALA  Åland Islands    -4.15    -7.16    -3.21     2.68     8.31   \n",
      "\n",
      "   1901-06  1901-07  1901-08  ...  2023-03  2023-04  2023-05  2023-06  \\\n",
      "4    12.82    19.11    17.11  ...    -1.17      4.3     8.72    14.99   \n",
      "\n",
      "   2023-07  2023-08  2023-09  2023-10  2023-11  2023-12  \n",
      "4    15.47    15.91    14.78      6.5      1.8    -1.28  \n",
      "\n",
      "[1 rows x 1478 columns]\n",
      "   Country_Code Country_Name  1901-01  1901-02  1901-03  1901-04  1901-05  \\\n",
      "82          GLP   Guadeloupe    23.85    23.88    23.99    24.93    25.67   \n",
      "\n",
      "    1901-06  1901-07  1901-08  ...  2023-03  2023-04  2023-05  2023-06  \\\n",
      "82    25.98    26.17    26.42  ...    24.02    24.92    26.34     27.4   \n",
      "\n",
      "    2023-07  2023-08  2023-09  2023-10  2023-11  2023-12  \n",
      "82    27.59    27.81    27.51    27.02    26.36     25.1  \n",
      "\n",
      "[1 rows x 1478 columns]\n",
      "   Country_Code   Country_Name  1901-01  1901-02  1901-03  1901-04  1901-05  \\\n",
      "90          GUF  French Guiana    26.13     26.1     25.5    26.62    26.47   \n",
      "\n",
      "    1901-06  1901-07  1901-08  ...  2023-03  2023-04  2023-05  2023-06  \\\n",
      "90    27.29     26.3    26.35  ...    25.84    25.86    26.68    26.58   \n",
      "\n",
      "    2023-07  2023-08  2023-09  2023-10  2023-11  2023-12  \n",
      "90    26.91    27.78    28.24    28.47    27.99    27.03  \n",
      "\n",
      "[1 rows x 1478 columns]\n",
      "    Country_Code Country_Name  1901-01  1901-02  1901-03  1901-04  1901-05  \\\n",
      "152          MTQ   Martinique    24.32    24.36    24.73    25.49    26.32   \n",
      "\n",
      "     1901-06  1901-07  1901-08  ...  2023-03  2023-04  2023-05  2023-06  \\\n",
      "152    26.42    26.36    26.61  ...    25.13     25.9    27.32     28.1   \n",
      "\n",
      "     2023-07  2023-08  2023-09  2023-10  2023-11  2023-12  \n",
      "152    28.05    28.39    28.31    27.91    27.18    25.99  \n",
      "\n",
      "[1 rows x 1478 columns]\n",
      "    Country_Code Country_Name  1901-01  1901-02  1901-03  1901-04  1901-05  \\\n",
      "156          MYT      Mayotte     26.2     25.5     26.0     25.3     24.8   \n",
      "\n",
      "     1901-06  1901-07  1901-08  ...  2023-03  2023-04  2023-05  2023-06  \\\n",
      "156     23.8     22.7     22.1  ...     26.4     26.3     26.0     24.7   \n",
      "\n",
      "     2023-07  2023-08  2023-09  2023-10  2023-11  2023-12  \n",
      "156     24.0     23.7     24.3     24.9     26.0     27.4  \n",
      "\n",
      "[1 rows x 1478 columns]\n",
      "    Country_Code Country_Name  1901-01  1901-02  1901-03  1901-04  1901-05  \\\n",
      "185          REU      Réunion    22.36    22.18    21.84    20.55    18.81   \n",
      "\n",
      "     1901-06  1901-07  1901-08  ...  2023-03  2023-04  2023-05  2023-06  \\\n",
      "185    17.34    16.57    16.18  ...    22.31    21.87    20.22    18.52   \n",
      "\n",
      "     2023-07  2023-08  2023-09  2023-10  2023-11  2023-12  \n",
      "185    17.78    17.96    18.05    19.12    20.77    22.66  \n",
      "\n",
      "[1 rows x 1478 columns]\n"
     ]
    }
   ],
   "source": [
    "print(df[df['Country_Code'] == 'TWN'])\n",
    "print(df[df['Country_Code'] == 'ALA'])\n",
    "print(df[df['Country_Code'] == 'GLP'])\n",
    "print(df[df['Country_Code'] == 'GUF'])\n",
    "print(df[df['Country_Code'] == 'MTQ'])\n",
    "print(df[df['Country_Code'] == 'MYT'])\n",
    "print(df[df['Country_Code'] == 'REU'])"
   ]
  },
  {
   "cell_type": "code",
   "execution_count": 10,
   "metadata": {},
   "outputs": [
    {
     "name": "stdout",
     "output_type": "stream",
     "text": [
      "Unique country codes: 246\n",
      "Country_Name\n",
      "Aruba (Neth.)          1\n",
      "Malawi                 1\n",
      "Mayotte                1\n",
      "Namibia                1\n",
      "New Caledonia (Fr.)    1\n",
      "                      ..\n",
      "Greece                 1\n",
      "Grenada                1\n",
      "Greenland (Den.)       1\n",
      "Guatemala              1\n",
      "Zimbabwe               1\n",
      "Name: count, Length: 246, dtype: int64\n"
     ]
    }
   ],
   "source": [
    "unique_codes = df[\"Country_Code\"].unique()\n",
    "print(f\"Unique country codes: {len(unique_codes)}\")\n",
    "\n",
    "print(df[\"Country_Name\"].value_counts())"
   ]
  },
  {
   "attachments": {},
   "cell_type": "markdown",
   "metadata": {},
   "source": [
    "## Convert to DateTime"
   ]
  },
  {
   "cell_type": "code",
   "execution_count": 11,
   "metadata": {},
   "outputs": [
    {
     "name": "stdout",
     "output_type": "stream",
     "text": [
      "  Country_Code     Country_Name Year_Month  Temperature\n",
      "0          ABW    Aruba (Neth.) 1901-01-01        27.20\n",
      "1          AFG      Afghanistan 1901-01-01        -0.82\n",
      "2          AGO           Angola 1901-01-01        22.50\n",
      "3          AIA  Anguilla (U.K.) 1901-01-01        26.10\n",
      "4          ALA    Åland Islands 1901-01-01        -4.15\n"
     ]
    }
   ],
   "source": [
    "df = df.melt(id_vars=[\"Country_Code\", \"Country_Name\"], var_name=\"Year_Month\", value_name=\"Temperature\")\n",
    "\n",
    "df[\"Year_Month\"] = pd.to_datetime(df[\"Year_Month\"], format=\"%Y-%m\")\n",
    "\n",
    "print(df.head())"
   ]
  },
  {
   "attachments": {},
   "cell_type": "markdown",
   "metadata": {},
   "source": [
    "## Removing Rows with Missing Values"
   ]
  },
  {
   "cell_type": "code",
   "execution_count": 12,
   "metadata": {},
   "outputs": [
    {
     "name": "stdout",
     "output_type": "stream",
     "text": [
      "Total missing values: 2952\n"
     ]
    }
   ],
   "source": [
    "missing_values = df.isnull().sum().sum()\n",
    "print(f\"Total missing values: {missing_values}\")"
   ]
  },
  {
   "cell_type": "code",
   "execution_count": 13,
   "metadata": {},
   "outputs": [
    {
     "name": "stdout",
     "output_type": "stream",
     "text": [
      "       Country_Code            Country_Name Year_Month  Temperature\n",
      "26              BLM  Saint-Barthélemy (Fr.) 1901-01-01          NaN\n",
      "35              BVT    Bouvet Island (Nor.) 1901-01-01          NaN\n",
      "272             BLM  Saint-Barthélemy (Fr.) 1901-02-01          NaN\n",
      "281             BVT    Bouvet Island (Nor.) 1901-02-01          NaN\n",
      "518             BLM  Saint-Barthélemy (Fr.) 1901-03-01          NaN\n",
      "...             ...                     ...        ...          ...\n",
      "362393          BVT    Bouvet Island (Nor.) 2023-10-01          NaN\n",
      "362630          BLM  Saint-Barthélemy (Fr.) 2023-11-01          NaN\n",
      "362639          BVT    Bouvet Island (Nor.) 2023-11-01          NaN\n",
      "362876          BLM  Saint-Barthélemy (Fr.) 2023-12-01          NaN\n",
      "362885          BVT    Bouvet Island (Nor.) 2023-12-01          NaN\n",
      "\n",
      "[2952 rows x 4 columns]\n"
     ]
    }
   ],
   "source": [
    "df_missing = df[df.isnull().any(axis=1)]\n",
    "print(df_missing)"
   ]
  },
  {
   "cell_type": "code",
   "execution_count": 14,
   "metadata": {},
   "outputs": [],
   "source": [
    "df = df.drop(df[df['Country_Code'].isin(['BLM', 'BVT'])].index)"
   ]
  },
  {
   "cell_type": "code",
   "execution_count": 15,
   "metadata": {},
   "outputs": [
    {
     "name": "stdout",
     "output_type": "stream",
     "text": [
      "Total missing values: 0\n"
     ]
    }
   ],
   "source": [
    "missing_values = df.isnull().sum().sum()\n",
    "print(f\"Total missing values: {missing_values}\")"
   ]
  },
  {
   "cell_type": "code",
   "execution_count": 16,
   "metadata": {},
   "outputs": [
    {
     "name": "stdout",
     "output_type": "stream",
     "text": [
      "Empty DataFrame\n",
      "Columns: [Country_Code, Country_Name, Year_Month, Temperature]\n",
      "Index: []\n"
     ]
    }
   ],
   "source": [
    "df_missing = df[df.isnull().any(axis=1)]\n",
    "print(df_missing)"
   ]
  },
  {
   "cell_type": "code",
   "execution_count": 12,
   "metadata": {},
   "outputs": [
    {
     "name": "stdout",
     "output_type": "stream",
     "text": [
      "  Country_Code     Country_Name Year_Month  Temperature\n",
      "0          ABW    Aruba (Neth.) 1901-01-01        27.20\n",
      "1          AFG      Afghanistan 1901-01-01        -0.82\n",
      "2          AGO           Angola 1901-01-01        22.50\n",
      "3          AIA  Anguilla (U.K.) 1901-01-01        26.10\n",
      "4          ALA          Finland 1901-01-01        -4.15\n"
     ]
    }
   ],
   "source": [
    "print(df.head())"
   ]
  },
  {
   "attachments": {},
   "cell_type": "markdown",
   "metadata": {},
   "source": [
    "## Saving Cleaned Dataset"
   ]
  },
  {
   "cell_type": "code",
   "execution_count": 17,
   "metadata": {},
   "outputs": [],
   "source": [
    "df.to_csv(\"cleaned_temperature.csv\", index=False, encoding=\"utf-8-sig\")"
   ]
  },
  {
   "cell_type": "code",
   "execution_count": 14,
   "metadata": {},
   "outputs": [
    {
     "name": "stdout",
     "output_type": "stream",
     "text": [
      "  Country_Code     Country_Name  Year_Month  Temperature\n",
      "0          ABW    Aruba (Neth.)  1901-01-01        27.20\n",
      "1          AFG      Afghanistan  1901-01-01        -0.82\n",
      "2          AGO           Angola  1901-01-01        22.50\n",
      "3          AIA  Anguilla (U.K.)  1901-01-01        26.10\n",
      "4          ALA          Finland  1901-01-01        -4.15\n"
     ]
    }
   ],
   "source": [
    "df = pd.read_csv('cleaned_temperature.csv', encoding=\"utf-8\")\n",
    "print(df.head())"
   ]
  }
 ],
 "metadata": {
  "kernelspec": {
   "display_name": "Python 3",
   "language": "python",
   "name": "python3"
  },
  "language_info": {
   "codemirror_mode": {
    "name": "ipython",
    "version": 3
   },
   "file_extension": ".py",
   "mimetype": "text/x-python",
   "name": "python",
   "nbconvert_exporter": "python",
   "pygments_lexer": "ipython3",
   "version": "3.13.0"
  },
  "orig_nbformat": 4
 },
 "nbformat": 4,
 "nbformat_minor": 2
}
