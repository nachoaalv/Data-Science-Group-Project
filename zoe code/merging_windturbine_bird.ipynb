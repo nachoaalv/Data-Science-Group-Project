{
 "cells": [
  {
   "cell_type": "code",
   "execution_count": 1,
   "metadata": {},
   "outputs": [],
   "source": [
    "import pandas as pd"
   ]
  },
  {
   "attachments": {},
   "cell_type": "markdown",
   "metadata": {},
   "source": [
    "# Reading Files"
   ]
  },
  {
   "cell_type": "code",
   "execution_count": 2,
   "metadata": {},
   "outputs": [
    {
     "data": {
      "text/html": [
       "<div>\n",
       "<style scoped>\n",
       "    .dataframe tbody tr th:only-of-type {\n",
       "        vertical-align: middle;\n",
       "    }\n",
       "\n",
       "    .dataframe tbody tr th {\n",
       "        vertical-align: top;\n",
       "    }\n",
       "\n",
       "    .dataframe thead th {\n",
       "        text-align: right;\n",
       "    }\n",
       "</style>\n",
       "<table border=\"1\" class=\"dataframe\">\n",
       "  <thead>\n",
       "    <tr style=\"text-align: right;\">\n",
       "      <th></th>\n",
       "      <th>YEAR</th>\n",
       "      <th>LATITUDE</th>\n",
       "      <th>LONGITUDE</th>\n",
       "      <th>COUNTRY</th>\n",
       "    </tr>\n",
       "  </thead>\n",
       "  <tbody>\n",
       "    <tr>\n",
       "      <th>0</th>\n",
       "      <td>2014</td>\n",
       "      <td>28.4624</td>\n",
       "      <td>-0.0576</td>\n",
       "      <td>Algeria</td>\n",
       "    </tr>\n",
       "    <tr>\n",
       "      <th>1</th>\n",
       "      <td>2026</td>\n",
       "      <td>26.2540</td>\n",
       "      <td>29.2675</td>\n",
       "      <td>Egypt</td>\n",
       "    </tr>\n",
       "    <tr>\n",
       "      <th>2</th>\n",
       "      <td>-1</td>\n",
       "      <td>26.5583</td>\n",
       "      <td>31.6773</td>\n",
       "      <td>Egypt</td>\n",
       "    </tr>\n",
       "    <tr>\n",
       "      <th>3</th>\n",
       "      <td>-1</td>\n",
       "      <td>29.6607</td>\n",
       "      <td>32.3314</td>\n",
       "      <td>Egypt</td>\n",
       "    </tr>\n",
       "    <tr>\n",
       "      <th>4</th>\n",
       "      <td>2025</td>\n",
       "      <td>28.1338</td>\n",
       "      <td>33.2602</td>\n",
       "      <td>Egypt</td>\n",
       "    </tr>\n",
       "  </tbody>\n",
       "</table>\n",
       "</div>"
      ],
      "text/plain": [
       "   YEAR  LATITUDE  LONGITUDE  COUNTRY\n",
       "0  2014   28.4624    -0.0576  Algeria\n",
       "1  2026   26.2540    29.2675    Egypt\n",
       "2    -1   26.5583    31.6773    Egypt\n",
       "3    -1   29.6607    32.3314    Egypt\n",
       "4  2025   28.1338    33.2602    Egypt"
      ]
     },
     "execution_count": 2,
     "metadata": {},
     "output_type": "execute_result"
    }
   ],
   "source": [
    "df_wind = pd.read_csv('wind_turbine.csv')\n",
    "df_wind.head()"
   ]
  },
  {
   "cell_type": "code",
   "execution_count": 3,
   "metadata": {},
   "outputs": [
    {
     "data": {
      "text/html": [
       "<div>\n",
       "<style scoped>\n",
       "    .dataframe tbody tr th:only-of-type {\n",
       "        vertical-align: middle;\n",
       "    }\n",
       "\n",
       "    .dataframe tbody tr th {\n",
       "        vertical-align: top;\n",
       "    }\n",
       "\n",
       "    .dataframe thead th {\n",
       "        text-align: right;\n",
       "    }\n",
       "</style>\n",
       "<table border=\"1\" class=\"dataframe\">\n",
       "  <thead>\n",
       "    <tr style=\"text-align: right;\">\n",
       "      <th></th>\n",
       "      <th>OBSERVATION COUNT</th>\n",
       "      <th>COUNTRY</th>\n",
       "      <th>LATITUDE</th>\n",
       "      <th>LONGITUDE</th>\n",
       "      <th>OBSERVATION DATE</th>\n",
       "      <th>TIME OBSERVATIONS STARTED</th>\n",
       "      <th>DURATION MINUTES</th>\n",
       "      <th>YEAR</th>\n",
       "    </tr>\n",
       "  </thead>\n",
       "  <tbody>\n",
       "    <tr>\n",
       "      <th>0</th>\n",
       "      <td>7</td>\n",
       "      <td>United Kingdom</td>\n",
       "      <td>52.744315</td>\n",
       "      <td>1.624603</td>\n",
       "      <td>8/10/1993</td>\n",
       "      <td>NaN</td>\n",
       "      <td>NaN</td>\n",
       "      <td>1993.0</td>\n",
       "    </tr>\n",
       "    <tr>\n",
       "      <th>1</th>\n",
       "      <td>2</td>\n",
       "      <td>Finland</td>\n",
       "      <td>59.809343</td>\n",
       "      <td>22.893696</td>\n",
       "      <td>15/04/1984</td>\n",
       "      <td>NaN</td>\n",
       "      <td>NaN</td>\n",
       "      <td>1984.0</td>\n",
       "    </tr>\n",
       "    <tr>\n",
       "      <th>2</th>\n",
       "      <td>35</td>\n",
       "      <td>Finland</td>\n",
       "      <td>61.481060</td>\n",
       "      <td>23.823474</td>\n",
       "      <td>20/04/1972</td>\n",
       "      <td>14:20:00</td>\n",
       "      <td>NaN</td>\n",
       "      <td>1972.0</td>\n",
       "    </tr>\n",
       "    <tr>\n",
       "      <th>3</th>\n",
       "      <td>20</td>\n",
       "      <td>Sweden</td>\n",
       "      <td>57.278110</td>\n",
       "      <td>14.000840</td>\n",
       "      <td>27/05/1991</td>\n",
       "      <td>NaN</td>\n",
       "      <td>NaN</td>\n",
       "      <td>1991.0</td>\n",
       "    </tr>\n",
       "    <tr>\n",
       "      <th>4</th>\n",
       "      <td>20</td>\n",
       "      <td>Sweden</td>\n",
       "      <td>57.295939</td>\n",
       "      <td>13.944397</td>\n",
       "      <td>20/07/1995</td>\n",
       "      <td>10:30:00</td>\n",
       "      <td>450.0</td>\n",
       "      <td>1995.0</td>\n",
       "    </tr>\n",
       "  </tbody>\n",
       "</table>\n",
       "</div>"
      ],
      "text/plain": [
       "  OBSERVATION COUNT         COUNTRY   LATITUDE  LONGITUDE OBSERVATION DATE  \\\n",
       "0                 7  United Kingdom  52.744315   1.624603        8/10/1993   \n",
       "1                 2         Finland  59.809343  22.893696       15/04/1984   \n",
       "2                35         Finland  61.481060  23.823474       20/04/1972   \n",
       "3                20          Sweden  57.278110  14.000840       27/05/1991   \n",
       "4                20          Sweden  57.295939  13.944397       20/07/1995   \n",
       "\n",
       "  TIME OBSERVATIONS STARTED  DURATION MINUTES    YEAR  \n",
       "0                       NaN               NaN  1993.0  \n",
       "1                       NaN               NaN  1984.0  \n",
       "2                  14:20:00               NaN  1972.0  \n",
       "3                       NaN               NaN  1991.0  \n",
       "4                  10:30:00             450.0  1995.0  "
      ]
     },
     "execution_count": 3,
     "metadata": {},
     "output_type": "execute_result"
    }
   ],
   "source": [
    "df_bird = pd.read_csv('common_crane.csv')\n",
    "df_bird.head()"
   ]
  },
  {
   "attachments": {},
   "cell_type": "markdown",
   "metadata": {},
   "source": [
    "# Removing Invalid Years"
   ]
  },
  {
   "cell_type": "code",
   "execution_count": 4,
   "metadata": {},
   "outputs": [],
   "source": [
    "df_wind = df_wind[df_wind[\"YEAR\"] != -1]"
   ]
  },
  {
   "cell_type": "code",
   "execution_count": 7,
   "metadata": {},
   "outputs": [
    {
     "name": "stdout",
     "output_type": "stream",
     "text": [
      "False\n"
     ]
    }
   ],
   "source": [
    "print(-1 in df_wind[\"YEAR\"].values)"
   ]
  },
  {
   "attachments": {},
   "cell_type": "markdown",
   "metadata": {},
   "source": [
    "# Merging the Dataframes"
   ]
  },
  {
   "cell_type": "code",
   "execution_count": 8,
   "metadata": {},
   "outputs": [],
   "source": [
    "df_merged = df_wind.merge(df_bird, on=[\"COUNTRY\", \"YEAR\"], how=\"inner\")"
   ]
  },
  {
   "cell_type": "code",
   "execution_count": 9,
   "metadata": {},
   "outputs": [],
   "source": [
    "df_merged.to_csv('merged_data.csv', index=False)"
   ]
  },
  {
   "cell_type": "code",
   "execution_count": 11,
   "metadata": {},
   "outputs": [
    {
     "data": {
      "text/html": [
       "<div>\n",
       "<style scoped>\n",
       "    .dataframe tbody tr th:only-of-type {\n",
       "        vertical-align: middle;\n",
       "    }\n",
       "\n",
       "    .dataframe tbody tr th {\n",
       "        vertical-align: top;\n",
       "    }\n",
       "\n",
       "    .dataframe thead th {\n",
       "        text-align: right;\n",
       "    }\n",
       "</style>\n",
       "<table border=\"1\" class=\"dataframe\">\n",
       "  <thead>\n",
       "    <tr style=\"text-align: right;\">\n",
       "      <th></th>\n",
       "      <th>YEAR</th>\n",
       "      <th>LATITUDE_x</th>\n",
       "      <th>LONGITUDE_x</th>\n",
       "      <th>COUNTRY</th>\n",
       "      <th>OBSERVATION COUNT</th>\n",
       "      <th>LATITUDE_y</th>\n",
       "      <th>LONGITUDE_y</th>\n",
       "      <th>OBSERVATION DATE</th>\n",
       "      <th>TIME OBSERVATIONS STARTED</th>\n",
       "      <th>DURATION MINUTES</th>\n",
       "    </tr>\n",
       "  </thead>\n",
       "  <tbody>\n",
       "    <tr>\n",
       "      <th>0</th>\n",
       "      <td>2023</td>\n",
       "      <td>28.3553</td>\n",
       "      <td>33.0622</td>\n",
       "      <td>Egypt</td>\n",
       "      <td>20</td>\n",
       "      <td>26.845628</td>\n",
       "      <td>33.998315</td>\n",
       "      <td>22/10/2023</td>\n",
       "      <td>0:34:00</td>\n",
       "      <td>90.0</td>\n",
       "    </tr>\n",
       "    <tr>\n",
       "      <th>1</th>\n",
       "      <td>2023</td>\n",
       "      <td>28.3553</td>\n",
       "      <td>33.0622</td>\n",
       "      <td>Egypt</td>\n",
       "      <td>1</td>\n",
       "      <td>28.010269</td>\n",
       "      <td>34.408268</td>\n",
       "      <td>23/12/2023</td>\n",
       "      <td>14:31:00</td>\n",
       "      <td>116.0</td>\n",
       "    </tr>\n",
       "    <tr>\n",
       "      <th>2</th>\n",
       "      <td>2023</td>\n",
       "      <td>28.3553</td>\n",
       "      <td>33.0622</td>\n",
       "      <td>Egypt</td>\n",
       "      <td>2</td>\n",
       "      <td>27.099550</td>\n",
       "      <td>33.837988</td>\n",
       "      <td>1/4/2023</td>\n",
       "      <td>10:00:00</td>\n",
       "      <td>90.0</td>\n",
       "    </tr>\n",
       "    <tr>\n",
       "      <th>3</th>\n",
       "      <td>2023</td>\n",
       "      <td>28.3553</td>\n",
       "      <td>33.0622</td>\n",
       "      <td>Egypt</td>\n",
       "      <td>400</td>\n",
       "      <td>27.393946</td>\n",
       "      <td>33.681893</td>\n",
       "      <td>14/03/2023</td>\n",
       "      <td>10:45:00</td>\n",
       "      <td>90.0</td>\n",
       "    </tr>\n",
       "    <tr>\n",
       "      <th>4</th>\n",
       "      <td>2023</td>\n",
       "      <td>28.3553</td>\n",
       "      <td>33.0622</td>\n",
       "      <td>Egypt</td>\n",
       "      <td>1</td>\n",
       "      <td>27.940700</td>\n",
       "      <td>34.301800</td>\n",
       "      <td>24/12/2023</td>\n",
       "      <td>7:20:00</td>\n",
       "      <td>281.0</td>\n",
       "    </tr>\n",
       "  </tbody>\n",
       "</table>\n",
       "</div>"
      ],
      "text/plain": [
       "   YEAR  LATITUDE_x  LONGITUDE_x COUNTRY OBSERVATION COUNT  LATITUDE_y  \\\n",
       "0  2023     28.3553      33.0622   Egypt                20   26.845628   \n",
       "1  2023     28.3553      33.0622   Egypt                 1   28.010269   \n",
       "2  2023     28.3553      33.0622   Egypt                 2   27.099550   \n",
       "3  2023     28.3553      33.0622   Egypt               400   27.393946   \n",
       "4  2023     28.3553      33.0622   Egypt                 1   27.940700   \n",
       "\n",
       "   LONGITUDE_y OBSERVATION DATE TIME OBSERVATIONS STARTED  DURATION MINUTES  \n",
       "0    33.998315       22/10/2023                   0:34:00              90.0  \n",
       "1    34.408268       23/12/2023                  14:31:00             116.0  \n",
       "2    33.837988         1/4/2023                  10:00:00              90.0  \n",
       "3    33.681893       14/03/2023                  10:45:00              90.0  \n",
       "4    34.301800       24/12/2023                   7:20:00             281.0  "
      ]
     },
     "execution_count": 11,
     "metadata": {},
     "output_type": "execute_result"
    }
   ],
   "source": [
    "df_merged.head()"
   ]
  },
  {
   "cell_type": "code",
   "execution_count": 12,
   "metadata": {},
   "outputs": [
    {
     "name": "stdout",
     "output_type": "stream",
     "text": [
      "16302\n",
      "269456\n",
      "6523067\n"
     ]
    }
   ],
   "source": [
    "print(len(df_wind))\n",
    "print(len(df_bird))\n",
    "print(len(df_merged))"
   ]
  },
  {
   "cell_type": "code",
   "execution_count": null,
   "metadata": {},
   "outputs": [],
   "source": []
  }
 ],
 "metadata": {
  "kernelspec": {
   "display_name": "Python 3",
   "language": "python",
   "name": "python3"
  },
  "language_info": {
   "codemirror_mode": {
    "name": "ipython",
    "version": 3
   },
   "file_extension": ".py",
   "mimetype": "text/x-python",
   "name": "python",
   "nbconvert_exporter": "python",
   "pygments_lexer": "ipython3",
   "version": "3.13.0"
  },
  "orig_nbformat": 4
 },
 "nbformat": 4,
 "nbformat_minor": 2
}
